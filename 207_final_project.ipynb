{
  "nbformat": 4,
  "nbformat_minor": 0,
  "metadata": {
    "colab": {
      "provenance": [],
      "collapsed_sections": [
        "jreGLGt1jy1v",
        "Fbg1PvvB_uCH",
        "0JOtX4mN4Ngf",
        "3-jjFjDTQ_V2",
        "Kr0tQeehSOE1"
      ]
    },
    "kernelspec": {
      "name": "python3",
      "display_name": "Python 3"
    },
    "language_info": {
      "name": "python"
    }
  },
  "cells": [
    {
      "cell_type": "markdown",
      "source": [
        "# 207 Final Project\n",
        "# Predicting Employee Attrition Using Decision Tree, KNN, and Logistic Regression\n",
        "\n",
        "Class: 207 Applied Machine Learning | Spring 2023 <br>\n",
        "Team: Ivy Chan, John Gibbons, Mark Herrera, Maria Manna "
      ],
      "metadata": {
        "id": "BRmT-G_1gHgF"
      }
    },
    {
      "cell_type": "markdown",
      "source": [
        "# Import packages & mount drive\n"
      ],
      "metadata": {
        "id": "jreGLGt1jy1v"
      }
    },
    {
      "cell_type": "code",
      "source": [
        "# run the below pip install if there's a problem importing heatmap\n",
        "#!pip install mlxtend --upgrade"
      ],
      "metadata": {
        "id": "E8I52L-dpOPv"
      },
      "execution_count": null,
      "outputs": []
    },
    {
      "cell_type": "code",
      "execution_count": null,
      "metadata": {
        "id": "SAG07fm4dNqh"
      },
      "outputs": [],
      "source": [
        "# standard libraries\n",
        "import pandas as pd\n",
        "import numpy as np\n",
        "import os\n",
        "import random\n",
        "\n",
        "# visualizations\n",
        "import matplotlib.pyplot as plt\n",
        "%matplotlib inline\n",
        "from IPython.display import Image\n",
        "import mlxtend\n",
        "from mlxtend.plotting import scatterplotmatrix\n",
        "#from mlxtend.plotting import heatmap\n",
        "from mlxtend.plotting import plot_decision_regions\n",
        "import seaborn as sns\n",
        "\n",
        "# scikit-learn\n",
        "from sklearn.model_selection import train_test_split\n",
        "from sklearn.preprocessing import StandardScaler\n",
        "from sklearn.neighbors import KNeighborsClassifier\n",
        "from sklearn.metrics import confusion_matrix\n",
        "from sklearn.metrics import precision_score, recall_score, f1_score\n",
        "from sklearn.metrics import classification_report\n",
        "from sklearn.metrics import log_loss\n",
        "\n",
        "# tf\n",
        "import tensorflow as tf\n",
        "from tensorflow import keras\n",
        "from tensorflow.keras import initializers\n",
        "\n",
        "# display options\n",
        "pd.set_option('display.max_rows', 500)\n",
        "pd.set_option('display.max_columns', 500)\n",
        "pd.set_option('display.width', 1000)\n",
        "\n",
        "\n",
        "random.seed(2)"
      ]
    },
    {
      "cell_type": "markdown",
      "source": [
        "### Mount drive"
      ],
      "metadata": {
        "id": "zZS8gmFd_W_q"
      }
    },
    {
      "cell_type": "code",
      "source": [
        "#!pip install -U -q PyDrive"
      ],
      "metadata": {
        "id": "tHqkcSdI6vBK"
      },
      "execution_count": null,
      "outputs": []
    },
    {
      "cell_type": "code",
      "source": [
        "from google.colab import drive\n",
        "drive.mount('/content/drive', force_remount = True)\n"
      ],
      "metadata": {
        "id": "MKPQiyHA76-t",
        "colab": {
          "base_uri": "https://localhost:8080/"
        },
        "outputId": "eb7de7ab-ab60-4543-8e9a-f1fbba965cf8"
      },
      "execution_count": null,
      "outputs": [
        {
          "output_type": "stream",
          "name": "stdout",
          "text": [
            "Mounted at /content/drive\n"
          ]
        }
      ]
    },
    {
      "cell_type": "markdown",
      "source": [
        "# Read data"
      ],
      "metadata": {
        "id": "Fbg1PvvB_uCH"
      }
    },
    {
      "cell_type": "code",
      "source": [
        "df_original = pd.read_csv(\"/content/drive/MyDrive/207-MachineLearning/207_final_project/WA_Fn-UseC_-HR-Employee-Attrition.csv\")"
      ],
      "metadata": {
        "id": "M3swp0Ih83oD"
      },
      "execution_count": null,
      "outputs": []
    },
    {
      "cell_type": "code",
      "source": [
        "df = df_original.copy() # keep the original df"
      ],
      "metadata": {
        "id": "yX3TkdLr9HvX"
      },
      "execution_count": null,
      "outputs": []
    },
    {
      "cell_type": "code",
      "source": [
        "df.columns"
      ],
      "metadata": {
        "colab": {
          "base_uri": "https://localhost:8080/"
        },
        "id": "5iHPPtoh4bPv",
        "outputId": "8401cfc0-51b8-4f69-c7b1-a06abbaae1ae"
      },
      "execution_count": null,
      "outputs": [
        {
          "output_type": "execute_result",
          "data": {
            "text/plain": [
              "Index(['Age', 'Attrition', 'BusinessTravel', 'DailyRate', 'Department', 'DistanceFromHome', 'Education', 'EducationField', 'EmployeeCount', 'EmployeeNumber', 'EnvironmentSatisfaction', 'Gender', 'HourlyRate', 'JobInvolvement', 'JobLevel', 'JobRole', 'JobSatisfaction', 'MaritalStatus', 'MonthlyIncome', 'MonthlyRate', 'NumCompaniesWorked', 'Over18', 'OverTime', 'PercentSalaryHike', 'PerformanceRating', 'RelationshipSatisfaction', 'StandardHours', 'StockOptionLevel', 'TotalWorkingYears', 'TrainingTimesLastYear', 'WorkLifeBalance', 'YearsAtCompany', 'YearsInCurrentRole', 'YearsSinceLastPromotion', 'YearsWithCurrManager'], dtype='object')"
            ]
          },
          "metadata": {},
          "execution_count": 11
        }
      ]
    },
    {
      "cell_type": "code",
      "source": [
        "df.shape\n",
        "print(\"Shape of dataset: \", df.shape)\n"
      ],
      "metadata": {
        "colab": {
          "base_uri": "https://localhost:8080/"
        },
        "id": "1_kYyYnZ98Pu",
        "outputId": "c8ed0c59-908e-46f3-bdd1-1621a2bf7fe8"
      },
      "execution_count": null,
      "outputs": [
        {
          "output_type": "stream",
          "name": "stdout",
          "text": [
            "Shape of dataset:  (1470, 35)\n"
          ]
        }
      ]
    },
    {
      "cell_type": "markdown",
      "source": [
        "# Pre-Processing"
      ],
      "metadata": {
        "id": "0JOtX4mN4Ngf"
      }
    },
    {
      "cell_type": "markdown",
      "source": [
        "### Recode boolean variables"
      ],
      "metadata": {
        "id": "CvBfDm-ZOJpT"
      }
    },
    {
      "cell_type": "code",
      "source": [
        "# Change Attrition variable to numeric - 1 for Yes, 0 for No\n",
        "df.Attrition = np.where(df.Attrition == 'Yes', 1, 0)"
      ],
      "metadata": {
        "id": "JAGUUxhAOBo1"
      },
      "execution_count": null,
      "outputs": []
    },
    {
      "cell_type": "code",
      "source": [
        "# Change OverTime variable to numeric - 1 for Yes, 0 for No\n",
        "df.OverTime = np.where(df.OverTime == 'Yes', 1, 0)"
      ],
      "metadata": {
        "id": "pv335vASOBcR"
      },
      "execution_count": null,
      "outputs": []
    },
    {
      "cell_type": "markdown",
      "source": [
        "### Recode ordinal variables"
      ],
      "metadata": {
        "id": "bwp39qlR4Yjg"
      }
    },
    {
      "cell_type": "code",
      "source": [
        "# Change BusinessTravel variable (ordinal) to numeric - 0 for Non-Travel , 1 for Travel_Rarely, 2 for Travel_Frequently\n",
        "travel_mapping = {'Non-Travel': 0, 'Travel_Rarely': 1, 'Travel_Frequently': 2}\n",
        "df.BusinessTravel = df.BusinessTravel.map(travel_mapping)"
      ],
      "metadata": {
        "id": "orE4QEfTOBPQ"
      },
      "execution_count": null,
      "outputs": []
    },
    {
      "cell_type": "markdown",
      "source": [
        "### Add one-hot encodings for nominal variables"
      ],
      "metadata": {
        "id": "kiW5Ct834b9O"
      }
    },
    {
      "cell_type": "code",
      "source": [
        "# Create one-hot encodings for nominal variables (Gender, Department, EducationField, JobRole)\n",
        "nominal_features = ['Gender', 'Department', 'EducationField', 'JobRole']\n",
        "\n",
        "for feature in nominal_features:\n",
        "  feature_dummies = pd.get_dummies(df[feature])\n",
        "  feature_dummies.columns = feature_dummies.columns.str.replace(' ', '')\n",
        "  feature_dummies = feature_dummies.add_prefix(feature.lower())\n",
        "  df = pd.concat([df, feature_dummies], axis = 1)\n",
        "\n",
        "print(df.shape)\n",
        "print(df.columns.sort_values())"
      ],
      "metadata": {
        "colab": {
          "base_uri": "https://localhost:8080/"
        },
        "id": "YWgUcTiJOf51",
        "outputId": "4f731006-e2ce-4296-f9c2-2feac2a1aee6"
      },
      "execution_count": null,
      "outputs": [
        {
          "output_type": "stream",
          "name": "stdout",
          "text": [
            "(1470, 55)\n",
            "Index(['Age', 'Attrition', 'BusinessTravel', 'DailyRate', 'Department', 'DistanceFromHome', 'Education', 'EducationField', 'EmployeeCount', 'EmployeeNumber', 'EnvironmentSatisfaction', 'Gender', 'HourlyRate', 'JobInvolvement', 'JobLevel', 'JobRole', 'JobSatisfaction', 'MaritalStatus', 'MonthlyIncome', 'MonthlyRate', 'NumCompaniesWorked', 'Over18', 'OverTime', 'PercentSalaryHike', 'PerformanceRating', 'RelationshipSatisfaction', 'StandardHours', 'StockOptionLevel', 'TotalWorkingYears', 'TrainingTimesLastYear', 'WorkLifeBalance', 'YearsAtCompany', 'YearsInCurrentRole', 'YearsSinceLastPromotion', 'YearsWithCurrManager', 'departmentHumanResources', 'departmentResearch&Development', 'departmentSales', 'educationfieldHumanResources', 'educationfieldLifeSciences', 'educationfieldMarketing', 'educationfieldMedical', 'educationfieldOther', 'educationfieldTechnicalDegree', 'genderFemale', 'genderMale', 'jobroleHealthcareRepresentative', 'jobroleHumanResources', 'jobroleLaboratoryTechnician',\n",
            "       'jobroleManager', 'jobroleManufacturingDirector', 'jobroleResearchDirector', 'jobroleResearchScientist', 'jobroleSalesExecutive', 'jobroleSalesRepresentative'],\n",
            "      dtype='object')\n"
          ]
        }
      ]
    },
    {
      "cell_type": "markdown",
      "source": [
        "### Create subsets of features of interest"
      ],
      "metadata": {
        "id": "0c36xgv_OsYw"
      }
    },
    {
      "cell_type": "code",
      "source": [
        "# Define list of all features of interest\n",
        "all_features = ['Age', 'BusinessTravel', 'DistanceFromHome', 'Education', 'EnvironmentSatisfaction', 'JobLevel', 'JobSatisfaction', \n",
        "                'MonthlyIncome', 'NumCompaniesWorked', 'OverTime', 'PercentSalaryHike', 'PerformanceRating', 'StockOptionLevel', \n",
        "                'TotalWorkingYears', 'WorkLifeBalance', 'YearsAtCompany', 'YearsInCurrentRole', 'YearsSinceLastPromotion', 'YearsWithCurrManager', \n",
        "                'departmentHumanResources', 'departmentResearch&Development', 'departmentSales', 'educationfieldHumanResources', \n",
        "                'educationfieldLifeSciences', 'educationfieldMarketing', 'educationfieldMedical', 'educationfieldOther', \n",
        "                'educationfieldTechnicalDegree', 'genderFemale', 'genderMale', 'jobroleHealthcareRepresentative', 'jobroleHumanResources', \n",
        "                'jobroleLaboratoryTechnician', 'jobroleManager', 'jobroleManufacturingDirector', 'jobroleResearchDirector', 'jobroleResearchScientist', \n",
        "                'jobroleSalesExecutive', 'jobroleSalesRepresentative']\n",
        "\n",
        "# Define list of features subset for more readable EDA\n",
        "features_subset = ['Age', 'BusinessTravel', 'DistanceFromHome', 'Education', 'EnvironmentSatisfaction', 'JobLevel', 'JobSatisfaction', \n",
        "                   'MonthlyIncome', 'NumCompaniesWorked', 'OverTime', 'PercentSalaryHike', 'PerformanceRating', 'StockOptionLevel', \n",
        "                   'TotalWorkingYears', 'WorkLifeBalance', 'YearsAtCompany', 'YearsInCurrentRole', 'YearsSinceLastPromotion', 'YearsWithCurrManager']"
      ],
      "metadata": {
        "id": "Fb0aJkvCOf14"
      },
      "execution_count": null,
      "outputs": []
    },
    {
      "cell_type": "code",
      "source": [
        "print(len(all_features))\n",
        "print(len(features_subset))"
      ],
      "metadata": {
        "colab": {
          "base_uri": "https://localhost:8080/"
        },
        "id": "mCfJnrgS8kUP",
        "outputId": "cb868e8a-b3de-436d-b267-c6efb406ea60"
      },
      "execution_count": null,
      "outputs": [
        {
          "output_type": "stream",
          "name": "stdout",
          "text": [
            "39\n",
            "19\n"
          ]
        }
      ]
    },
    {
      "cell_type": "markdown",
      "source": [
        "### Train / Test Split"
      ],
      "metadata": {
        "id": "xDvzOrUS4woZ"
      }
    },
    {
      "cell_type": "code",
      "source": [
        "# Define feature and outcome arrays\n",
        "X = df[all_features].values\n",
        "y = df.Attrition.values\n",
        "print(\"Features shape: \", X.shape)\n",
        "print(\"Labels shape: \", y.shape)"
      ],
      "metadata": {
        "id": "NGzY7h_nOfyi",
        "colab": {
          "base_uri": "https://localhost:8080/"
        },
        "outputId": "7fe44b4a-c53d-46d6-baf1-2f59e8510236"
      },
      "execution_count": null,
      "outputs": [
        {
          "output_type": "stream",
          "name": "stdout",
          "text": [
            "Features shape:  (1470, 39)\n",
            "Labels shape:  (1470,)\n"
          ]
        }
      ]
    },
    {
      "cell_type": "code",
      "source": [
        "# set seed for consistent behavior\n",
        "np.random.seed(1234)"
      ],
      "metadata": {
        "id": "XZb9uNmDLLBV"
      },
      "execution_count": null,
      "outputs": []
    },
    {
      "cell_type": "code",
      "source": [
        "# Create test/train split arrays\n",
        "X_train, X_test, y_train, y_test = train_test_split(X, y, test_size=0.3,\n",
        "                                                    random_state=1, stratify=y)"
      ],
      "metadata": {
        "id": "KFvyX2u7Ofru"
      },
      "execution_count": null,
      "outputs": []
    },
    {
      "cell_type": "code",
      "source": [
        "# print sizes\n",
        "print('Size of X_train', X_train.shape)\n",
        "print('Size of y_train', y_train.shape)\n",
        "print('Size of X_test', X_test.shape)\n",
        "print('Size of y_test', y_test.shape)\n"
      ],
      "metadata": {
        "colab": {
          "base_uri": "https://localhost:8080/"
        },
        "id": "XUK8T41DLXkS",
        "outputId": "7ceae0f1-a7ee-4008-d087-3c31c7389306"
      },
      "execution_count": null,
      "outputs": [
        {
          "output_type": "stream",
          "name": "stdout",
          "text": [
            "Size of X_train (1029, 39)\n",
            "Size of y_train (1029,)\n",
            "Size of X_test (441, 39)\n",
            "Size of y_test (441,)\n"
          ]
        }
      ]
    },
    {
      "cell_type": "markdown",
      "source": [
        "### Print summary statistics before standardizing"
      ],
      "metadata": {
        "id": "9LOtO5-abrTT"
      }
    },
    {
      "cell_type": "code",
      "source": [
        "df_train_summary = pd.concat(\n",
        "    [pd.DataFrame(y_train), pd.DataFrame(X_train)],\n",
        "    axis=1\n",
        ")\n",
        "\n",
        "# Get column names\n",
        "features_summary = all_features.copy()\n",
        "features_summary.insert(0, 'Attrition')\n",
        "\n",
        "# Assing column names\n",
        "df_train_summary.columns = features_summary\n",
        "\n",
        "# Subset summary df for more digestible output\n",
        "df_train_summary = df_train_summary[['Attrition', 'Age', 'JobSatisfaction', 'MonthlyIncome', 'NumCompaniesWorked', \n",
        "                                     'PercentSalaryHike', 'PerformanceRating', 'WorkLifeBalance', 'YearsSinceLastPromotion']]\n",
        "\n",
        "df_train_summary.describe().round(3)"
      ],
      "metadata": {
        "colab": {
          "base_uri": "https://localhost:8080/"
        },
        "id": "QidU7HjlbrGr",
        "outputId": "b92765d2-fe08-410f-8751-ec716733a701"
      },
      "execution_count": null,
      "outputs": [
        {
          "output_type": "execute_result",
          "data": {
            "text/plain": [
              "       Attrition       Age  JobSatisfaction  MonthlyIncome  NumCompaniesWorked  PercentSalaryHike  PerformanceRating  WorkLifeBalance  YearsSinceLastPromotion\n",
              "count   1029.000  1029.000         1029.000       1029.000            1029.000           1029.000           1029.000         1029.000                 1029.000\n",
              "mean       0.161    36.985            2.756       6517.126               2.723             15.231              3.158            2.737                    2.188\n",
              "std        0.368     9.194            1.095       4658.337               2.532              3.668              0.365            0.710                    3.215\n",
              "min        0.000    18.000            1.000       1052.000               0.000             11.000              3.000            1.000                    0.000\n",
              "25%        0.000    30.000            2.000       2936.000               1.000             12.000              3.000            2.000                    0.000\n",
              "50%        0.000    36.000            3.000       4969.000               2.000             14.000              3.000            3.000                    1.000\n",
              "75%        0.000    43.000            4.000       8381.000               4.000             18.000              3.000            3.000                    3.000\n",
              "max        1.000    60.000            4.000      19999.000               9.000             25.000              4.000            4.000                   15.000"
            ],
            "text/html": [
              "\n",
              "  <div id=\"df-96777828-a199-4890-8d13-efa0fd34d1e4\">\n",
              "    <div class=\"colab-df-container\">\n",
              "      <div>\n",
              "<style scoped>\n",
              "    .dataframe tbody tr th:only-of-type {\n",
              "        vertical-align: middle;\n",
              "    }\n",
              "\n",
              "    .dataframe tbody tr th {\n",
              "        vertical-align: top;\n",
              "    }\n",
              "\n",
              "    .dataframe thead th {\n",
              "        text-align: right;\n",
              "    }\n",
              "</style>\n",
              "<table border=\"1\" class=\"dataframe\">\n",
              "  <thead>\n",
              "    <tr style=\"text-align: right;\">\n",
              "      <th></th>\n",
              "      <th>Attrition</th>\n",
              "      <th>Age</th>\n",
              "      <th>JobSatisfaction</th>\n",
              "      <th>MonthlyIncome</th>\n",
              "      <th>NumCompaniesWorked</th>\n",
              "      <th>PercentSalaryHike</th>\n",
              "      <th>PerformanceRating</th>\n",
              "      <th>WorkLifeBalance</th>\n",
              "      <th>YearsSinceLastPromotion</th>\n",
              "    </tr>\n",
              "  </thead>\n",
              "  <tbody>\n",
              "    <tr>\n",
              "      <th>count</th>\n",
              "      <td>1029.000</td>\n",
              "      <td>1029.000</td>\n",
              "      <td>1029.000</td>\n",
              "      <td>1029.000</td>\n",
              "      <td>1029.000</td>\n",
              "      <td>1029.000</td>\n",
              "      <td>1029.000</td>\n",
              "      <td>1029.000</td>\n",
              "      <td>1029.000</td>\n",
              "    </tr>\n",
              "    <tr>\n",
              "      <th>mean</th>\n",
              "      <td>0.161</td>\n",
              "      <td>36.985</td>\n",
              "      <td>2.756</td>\n",
              "      <td>6517.126</td>\n",
              "      <td>2.723</td>\n",
              "      <td>15.231</td>\n",
              "      <td>3.158</td>\n",
              "      <td>2.737</td>\n",
              "      <td>2.188</td>\n",
              "    </tr>\n",
              "    <tr>\n",
              "      <th>std</th>\n",
              "      <td>0.368</td>\n",
              "      <td>9.194</td>\n",
              "      <td>1.095</td>\n",
              "      <td>4658.337</td>\n",
              "      <td>2.532</td>\n",
              "      <td>3.668</td>\n",
              "      <td>0.365</td>\n",
              "      <td>0.710</td>\n",
              "      <td>3.215</td>\n",
              "    </tr>\n",
              "    <tr>\n",
              "      <th>min</th>\n",
              "      <td>0.000</td>\n",
              "      <td>18.000</td>\n",
              "      <td>1.000</td>\n",
              "      <td>1052.000</td>\n",
              "      <td>0.000</td>\n",
              "      <td>11.000</td>\n",
              "      <td>3.000</td>\n",
              "      <td>1.000</td>\n",
              "      <td>0.000</td>\n",
              "    </tr>\n",
              "    <tr>\n",
              "      <th>25%</th>\n",
              "      <td>0.000</td>\n",
              "      <td>30.000</td>\n",
              "      <td>2.000</td>\n",
              "      <td>2936.000</td>\n",
              "      <td>1.000</td>\n",
              "      <td>12.000</td>\n",
              "      <td>3.000</td>\n",
              "      <td>2.000</td>\n",
              "      <td>0.000</td>\n",
              "    </tr>\n",
              "    <tr>\n",
              "      <th>50%</th>\n",
              "      <td>0.000</td>\n",
              "      <td>36.000</td>\n",
              "      <td>3.000</td>\n",
              "      <td>4969.000</td>\n",
              "      <td>2.000</td>\n",
              "      <td>14.000</td>\n",
              "      <td>3.000</td>\n",
              "      <td>3.000</td>\n",
              "      <td>1.000</td>\n",
              "    </tr>\n",
              "    <tr>\n",
              "      <th>75%</th>\n",
              "      <td>0.000</td>\n",
              "      <td>43.000</td>\n",
              "      <td>4.000</td>\n",
              "      <td>8381.000</td>\n",
              "      <td>4.000</td>\n",
              "      <td>18.000</td>\n",
              "      <td>3.000</td>\n",
              "      <td>3.000</td>\n",
              "      <td>3.000</td>\n",
              "    </tr>\n",
              "    <tr>\n",
              "      <th>max</th>\n",
              "      <td>1.000</td>\n",
              "      <td>60.000</td>\n",
              "      <td>4.000</td>\n",
              "      <td>19999.000</td>\n",
              "      <td>9.000</td>\n",
              "      <td>25.000</td>\n",
              "      <td>4.000</td>\n",
              "      <td>4.000</td>\n",
              "      <td>15.000</td>\n",
              "    </tr>\n",
              "  </tbody>\n",
              "</table>\n",
              "</div>\n",
              "      <button class=\"colab-df-convert\" onclick=\"convertToInteractive('df-96777828-a199-4890-8d13-efa0fd34d1e4')\"\n",
              "              title=\"Convert this dataframe to an interactive table.\"\n",
              "              style=\"display:none;\">\n",
              "        \n",
              "  <svg xmlns=\"http://www.w3.org/2000/svg\" height=\"24px\"viewBox=\"0 0 24 24\"\n",
              "       width=\"24px\">\n",
              "    <path d=\"M0 0h24v24H0V0z\" fill=\"none\"/>\n",
              "    <path d=\"M18.56 5.44l.94 2.06.94-2.06 2.06-.94-2.06-.94-.94-2.06-.94 2.06-2.06.94zm-11 1L8.5 8.5l.94-2.06 2.06-.94-2.06-.94L8.5 2.5l-.94 2.06-2.06.94zm10 10l.94 2.06.94-2.06 2.06-.94-2.06-.94-.94-2.06-.94 2.06-2.06.94z\"/><path d=\"M17.41 7.96l-1.37-1.37c-.4-.4-.92-.59-1.43-.59-.52 0-1.04.2-1.43.59L10.3 9.45l-7.72 7.72c-.78.78-.78 2.05 0 2.83L4 21.41c.39.39.9.59 1.41.59.51 0 1.02-.2 1.41-.59l7.78-7.78 2.81-2.81c.8-.78.8-2.07 0-2.86zM5.41 20L4 18.59l7.72-7.72 1.47 1.35L5.41 20z\"/>\n",
              "  </svg>\n",
              "      </button>\n",
              "      \n",
              "  <style>\n",
              "    .colab-df-container {\n",
              "      display:flex;\n",
              "      flex-wrap:wrap;\n",
              "      gap: 12px;\n",
              "    }\n",
              "\n",
              "    .colab-df-convert {\n",
              "      background-color: #E8F0FE;\n",
              "      border: none;\n",
              "      border-radius: 50%;\n",
              "      cursor: pointer;\n",
              "      display: none;\n",
              "      fill: #1967D2;\n",
              "      height: 32px;\n",
              "      padding: 0 0 0 0;\n",
              "      width: 32px;\n",
              "    }\n",
              "\n",
              "    .colab-df-convert:hover {\n",
              "      background-color: #E2EBFA;\n",
              "      box-shadow: 0px 1px 2px rgba(60, 64, 67, 0.3), 0px 1px 3px 1px rgba(60, 64, 67, 0.15);\n",
              "      fill: #174EA6;\n",
              "    }\n",
              "\n",
              "    [theme=dark] .colab-df-convert {\n",
              "      background-color: #3B4455;\n",
              "      fill: #D2E3FC;\n",
              "    }\n",
              "\n",
              "    [theme=dark] .colab-df-convert:hover {\n",
              "      background-color: #434B5C;\n",
              "      box-shadow: 0px 1px 3px 1px rgba(0, 0, 0, 0.15);\n",
              "      filter: drop-shadow(0px 1px 2px rgba(0, 0, 0, 0.3));\n",
              "      fill: #FFFFFF;\n",
              "    }\n",
              "  </style>\n",
              "\n",
              "      <script>\n",
              "        const buttonEl =\n",
              "          document.querySelector('#df-96777828-a199-4890-8d13-efa0fd34d1e4 button.colab-df-convert');\n",
              "        buttonEl.style.display =\n",
              "          google.colab.kernel.accessAllowed ? 'block' : 'none';\n",
              "\n",
              "        async function convertToInteractive(key) {\n",
              "          const element = document.querySelector('#df-96777828-a199-4890-8d13-efa0fd34d1e4');\n",
              "          const dataTable =\n",
              "            await google.colab.kernel.invokeFunction('convertToInteractive',\n",
              "                                                     [key], {});\n",
              "          if (!dataTable) return;\n",
              "\n",
              "          const docLinkHtml = 'Like what you see? Visit the ' +\n",
              "            '<a target=\"_blank\" href=https://colab.research.google.com/notebooks/data_table.ipynb>data table notebook</a>'\n",
              "            + ' to learn more about interactive tables.';\n",
              "          element.innerHTML = '';\n",
              "          dataTable['output_type'] = 'display_data';\n",
              "          await google.colab.output.renderOutput(dataTable, element);\n",
              "          const docLink = document.createElement('div');\n",
              "          docLink.innerHTML = docLinkHtml;\n",
              "          element.appendChild(docLink);\n",
              "        }\n",
              "      </script>\n",
              "    </div>\n",
              "  </div>\n",
              "  "
            ]
          },
          "metadata": {},
          "execution_count": 27
        }
      ]
    },
    {
      "cell_type": "markdown",
      "source": [
        "### Standardize features"
      ],
      "metadata": {
        "id": "anrXQNjaRIoI"
      }
    },
    {
      "cell_type": "code",
      "source": [
        "# Standardize features\n",
        "sc_x = StandardScaler()\n",
        "X_train_std = sc_x.fit(X_train).transform(X_train)\n",
        "X_test_std = sc_x.fit(X_train).transform(X_test)"
      ],
      "metadata": {
        "id": "_xugPRFhRHrt"
      },
      "execution_count": null,
      "outputs": []
    },
    {
      "cell_type": "markdown",
      "source": [
        "# EDA"
      ],
      "metadata": {
        "id": "3-jjFjDTQ_V2"
      }
    },
    {
      "cell_type": "markdown",
      "source": [
        "### Create EDA dataframe"
      ],
      "metadata": {
        "id": "oECGnCzz9boU"
      }
    },
    {
      "cell_type": "code",
      "source": [
        "_# Create train df for EDA\n",
        "df_train_eda = pd.concat(\n",
        "    [pd.DataFrame(y_train), pd.DataFrame(X_train_std)],\n",
        "    axis=1\n",
        ")\n",
        "\n",
        "features_eda = all_features.copy()\n",
        "features_eda.insert(0, 'Attrition')\n",
        "\n",
        "# Rename columns\n",
        "df_train_eda.columns = features_eda\n",
        "\n",
        "df_train_eda.head()"
      ],
      "metadata": {
        "colab": {
          "base_uri": "https://localhost:8080/"
        },
        "id": "cciL39uZ9a2V",
        "outputId": "5418af7c-0204-4602-cee5-a2a370d5be12"
      },
      "execution_count": null,
      "outputs": [
        {
          "output_type": "execute_result",
          "data": {
            "text/plain": [
              "   Attrition       Age  BusinessTravel  DistanceFromHome  Education  EnvironmentSatisfaction  JobLevel  JobSatisfaction  MonthlyIncome  NumCompaniesWorked  OverTime  PercentSalaryHike  PerformanceRating  StockOptionLevel  TotalWorkingYears  WorkLifeBalance  YearsAtCompany  YearsInCurrentRole  YearsSinceLastPromotion  YearsWithCurrManager  departmentHumanResources  departmentResearch&Development  departmentSales  educationfieldHumanResources  educationfieldLifeSciences  educationfieldMarketing  educationfieldMedical  educationfieldOther  educationfieldTechnicalDegree  genderFemale  genderMale  jobroleHealthcareRepresentative  jobroleHumanResources  jobroleLaboratoryTechnician  jobroleManager  jobroleManufacturingDirector  jobroleResearchDirector  jobroleResearchScientist  jobroleSalesExecutive  jobroleSalesRepresentative\n",
              "0          0 -0.977798       -0.147612          2.394813  -1.906415                 0.257606 -0.064735        -0.691045       0.006846           -0.680858 -0.599427          -0.335848          -0.433845          1.355373          -0.425315        -1.038610        0.175426            0.502511                -0.369541              0.814259                 -0.211353                        0.711750        -0.644520                     -0.137156                    1.201741                -0.340664              -0.679447            -0.261793                      -0.311472     -0.815505    0.815505                        -0.333513              -0.193128                    -0.466638       -0.276333                      2.998381                -0.228358                 -0.495745              -0.525999                   -0.230704\n",
              "1          0 -0.433696       -0.147612         -0.151915   1.090073                -1.539526 -0.064735        -1.605036      -0.026874           -0.285707 -0.599427          -0.608609          -0.433845          0.203698          -0.425315        -2.448543       -0.814591           -0.619754                -0.058364             -0.592984                 -0.211353                       -1.404987         1.551543                     -0.137156                    1.201741                -0.340664              -0.679447            -0.261793                      -0.311472     -0.815505    0.815505                        -0.333513              -0.193128                    -0.466638       -0.276333                     -0.333513                -0.228358                 -0.495745               1.901144                   -0.230704\n",
              "2          0  0.436868       -0.147612         -1.000824   0.091244                 1.156173  2.672746         0.222946       2.721580           -0.680858 -0.599427          -0.881369          -0.433845          0.203698           1.363615         0.371323        2.485464            0.783077                -0.058364              1.658605                  4.731423                       -1.404987        -0.644520                      7.290946                   -0.832126                -0.340664              -0.679447            -0.261793                      -0.311472     -0.815505    0.815505                        -0.333513              -0.193128                    -0.466638        3.618824                     -0.333513                -0.228358                 -0.495745              -0.525999                   -0.230704\n",
              "3          0 -0.324875       -0.147612         -0.151915  -0.907586                -0.640960 -0.064735         0.222946       0.060539           -0.680858 -0.599427           1.573476           2.304969          1.355373          -0.169753         0.371323        0.505431            1.063643                 0.563988              1.095708                 -0.211353                       -1.404987         1.551543                     -0.137156                   -0.832126                -0.340664              -0.679447            -0.261793                       3.210560     -0.815505    0.815505                        -0.333513              -0.193128                    -0.466638       -0.276333                     -0.333513                -0.228358                 -0.495745               1.901144                   -0.230704\n",
              "4          0 -0.651337       -2.022835         -0.758279  -0.907586                 0.257606 -0.977228        -1.605036      -0.741424           -0.680858  1.668259          -0.608609          -0.433845          0.203698          -0.936437         1.781257       -0.484585           -0.619754                -0.058364             -0.311535                 -0.211353                        0.711750        -0.644520                     -0.137156                   -0.832126                -0.340664               1.471786            -0.261793                      -0.311472     -0.815505    0.815505                        -0.333513              -0.193128                    -0.466638       -0.276333                     -0.333513                -0.228358                  2.017168              -0.525999                   -0.230704"
            ],
            "text/html": [
              "\n",
              "  <div id=\"df-cebcf4f9-c323-4c3f-82b1-7b0b91ed5aa7\">\n",
              "    <div class=\"colab-df-container\">\n",
              "      <div>\n",
              "<style scoped>\n",
              "    .dataframe tbody tr th:only-of-type {\n",
              "        vertical-align: middle;\n",
              "    }\n",
              "\n",
              "    .dataframe tbody tr th {\n",
              "        vertical-align: top;\n",
              "    }\n",
              "\n",
              "    .dataframe thead th {\n",
              "        text-align: right;\n",
              "    }\n",
              "</style>\n",
              "<table border=\"1\" class=\"dataframe\">\n",
              "  <thead>\n",
              "    <tr style=\"text-align: right;\">\n",
              "      <th></th>\n",
              "      <th>Attrition</th>\n",
              "      <th>Age</th>\n",
              "      <th>BusinessTravel</th>\n",
              "      <th>DistanceFromHome</th>\n",
              "      <th>Education</th>\n",
              "      <th>EnvironmentSatisfaction</th>\n",
              "      <th>JobLevel</th>\n",
              "      <th>JobSatisfaction</th>\n",
              "      <th>MonthlyIncome</th>\n",
              "      <th>NumCompaniesWorked</th>\n",
              "      <th>OverTime</th>\n",
              "      <th>PercentSalaryHike</th>\n",
              "      <th>PerformanceRating</th>\n",
              "      <th>StockOptionLevel</th>\n",
              "      <th>TotalWorkingYears</th>\n",
              "      <th>WorkLifeBalance</th>\n",
              "      <th>YearsAtCompany</th>\n",
              "      <th>YearsInCurrentRole</th>\n",
              "      <th>YearsSinceLastPromotion</th>\n",
              "      <th>YearsWithCurrManager</th>\n",
              "      <th>departmentHumanResources</th>\n",
              "      <th>departmentResearch&amp;Development</th>\n",
              "      <th>departmentSales</th>\n",
              "      <th>educationfieldHumanResources</th>\n",
              "      <th>educationfieldLifeSciences</th>\n",
              "      <th>educationfieldMarketing</th>\n",
              "      <th>educationfieldMedical</th>\n",
              "      <th>educationfieldOther</th>\n",
              "      <th>educationfieldTechnicalDegree</th>\n",
              "      <th>genderFemale</th>\n",
              "      <th>genderMale</th>\n",
              "      <th>jobroleHealthcareRepresentative</th>\n",
              "      <th>jobroleHumanResources</th>\n",
              "      <th>jobroleLaboratoryTechnician</th>\n",
              "      <th>jobroleManager</th>\n",
              "      <th>jobroleManufacturingDirector</th>\n",
              "      <th>jobroleResearchDirector</th>\n",
              "      <th>jobroleResearchScientist</th>\n",
              "      <th>jobroleSalesExecutive</th>\n",
              "      <th>jobroleSalesRepresentative</th>\n",
              "    </tr>\n",
              "  </thead>\n",
              "  <tbody>\n",
              "    <tr>\n",
              "      <th>0</th>\n",
              "      <td>0</td>\n",
              "      <td>-0.977798</td>\n",
              "      <td>-0.147612</td>\n",
              "      <td>2.394813</td>\n",
              "      <td>-1.906415</td>\n",
              "      <td>0.257606</td>\n",
              "      <td>-0.064735</td>\n",
              "      <td>-0.691045</td>\n",
              "      <td>0.006846</td>\n",
              "      <td>-0.680858</td>\n",
              "      <td>-0.599427</td>\n",
              "      <td>-0.335848</td>\n",
              "      <td>-0.433845</td>\n",
              "      <td>1.355373</td>\n",
              "      <td>-0.425315</td>\n",
              "      <td>-1.038610</td>\n",
              "      <td>0.175426</td>\n",
              "      <td>0.502511</td>\n",
              "      <td>-0.369541</td>\n",
              "      <td>0.814259</td>\n",
              "      <td>-0.211353</td>\n",
              "      <td>0.711750</td>\n",
              "      <td>-0.644520</td>\n",
              "      <td>-0.137156</td>\n",
              "      <td>1.201741</td>\n",
              "      <td>-0.340664</td>\n",
              "      <td>-0.679447</td>\n",
              "      <td>-0.261793</td>\n",
              "      <td>-0.311472</td>\n",
              "      <td>-0.815505</td>\n",
              "      <td>0.815505</td>\n",
              "      <td>-0.333513</td>\n",
              "      <td>-0.193128</td>\n",
              "      <td>-0.466638</td>\n",
              "      <td>-0.276333</td>\n",
              "      <td>2.998381</td>\n",
              "      <td>-0.228358</td>\n",
              "      <td>-0.495745</td>\n",
              "      <td>-0.525999</td>\n",
              "      <td>-0.230704</td>\n",
              "    </tr>\n",
              "    <tr>\n",
              "      <th>1</th>\n",
              "      <td>0</td>\n",
              "      <td>-0.433696</td>\n",
              "      <td>-0.147612</td>\n",
              "      <td>-0.151915</td>\n",
              "      <td>1.090073</td>\n",
              "      <td>-1.539526</td>\n",
              "      <td>-0.064735</td>\n",
              "      <td>-1.605036</td>\n",
              "      <td>-0.026874</td>\n",
              "      <td>-0.285707</td>\n",
              "      <td>-0.599427</td>\n",
              "      <td>-0.608609</td>\n",
              "      <td>-0.433845</td>\n",
              "      <td>0.203698</td>\n",
              "      <td>-0.425315</td>\n",
              "      <td>-2.448543</td>\n",
              "      <td>-0.814591</td>\n",
              "      <td>-0.619754</td>\n",
              "      <td>-0.058364</td>\n",
              "      <td>-0.592984</td>\n",
              "      <td>-0.211353</td>\n",
              "      <td>-1.404987</td>\n",
              "      <td>1.551543</td>\n",
              "      <td>-0.137156</td>\n",
              "      <td>1.201741</td>\n",
              "      <td>-0.340664</td>\n",
              "      <td>-0.679447</td>\n",
              "      <td>-0.261793</td>\n",
              "      <td>-0.311472</td>\n",
              "      <td>-0.815505</td>\n",
              "      <td>0.815505</td>\n",
              "      <td>-0.333513</td>\n",
              "      <td>-0.193128</td>\n",
              "      <td>-0.466638</td>\n",
              "      <td>-0.276333</td>\n",
              "      <td>-0.333513</td>\n",
              "      <td>-0.228358</td>\n",
              "      <td>-0.495745</td>\n",
              "      <td>1.901144</td>\n",
              "      <td>-0.230704</td>\n",
              "    </tr>\n",
              "    <tr>\n",
              "      <th>2</th>\n",
              "      <td>0</td>\n",
              "      <td>0.436868</td>\n",
              "      <td>-0.147612</td>\n",
              "      <td>-1.000824</td>\n",
              "      <td>0.091244</td>\n",
              "      <td>1.156173</td>\n",
              "      <td>2.672746</td>\n",
              "      <td>0.222946</td>\n",
              "      <td>2.721580</td>\n",
              "      <td>-0.680858</td>\n",
              "      <td>-0.599427</td>\n",
              "      <td>-0.881369</td>\n",
              "      <td>-0.433845</td>\n",
              "      <td>0.203698</td>\n",
              "      <td>1.363615</td>\n",
              "      <td>0.371323</td>\n",
              "      <td>2.485464</td>\n",
              "      <td>0.783077</td>\n",
              "      <td>-0.058364</td>\n",
              "      <td>1.658605</td>\n",
              "      <td>4.731423</td>\n",
              "      <td>-1.404987</td>\n",
              "      <td>-0.644520</td>\n",
              "      <td>7.290946</td>\n",
              "      <td>-0.832126</td>\n",
              "      <td>-0.340664</td>\n",
              "      <td>-0.679447</td>\n",
              "      <td>-0.261793</td>\n",
              "      <td>-0.311472</td>\n",
              "      <td>-0.815505</td>\n",
              "      <td>0.815505</td>\n",
              "      <td>-0.333513</td>\n",
              "      <td>-0.193128</td>\n",
              "      <td>-0.466638</td>\n",
              "      <td>3.618824</td>\n",
              "      <td>-0.333513</td>\n",
              "      <td>-0.228358</td>\n",
              "      <td>-0.495745</td>\n",
              "      <td>-0.525999</td>\n",
              "      <td>-0.230704</td>\n",
              "    </tr>\n",
              "    <tr>\n",
              "      <th>3</th>\n",
              "      <td>0</td>\n",
              "      <td>-0.324875</td>\n",
              "      <td>-0.147612</td>\n",
              "      <td>-0.151915</td>\n",
              "      <td>-0.907586</td>\n",
              "      <td>-0.640960</td>\n",
              "      <td>-0.064735</td>\n",
              "      <td>0.222946</td>\n",
              "      <td>0.060539</td>\n",
              "      <td>-0.680858</td>\n",
              "      <td>-0.599427</td>\n",
              "      <td>1.573476</td>\n",
              "      <td>2.304969</td>\n",
              "      <td>1.355373</td>\n",
              "      <td>-0.169753</td>\n",
              "      <td>0.371323</td>\n",
              "      <td>0.505431</td>\n",
              "      <td>1.063643</td>\n",
              "      <td>0.563988</td>\n",
              "      <td>1.095708</td>\n",
              "      <td>-0.211353</td>\n",
              "      <td>-1.404987</td>\n",
              "      <td>1.551543</td>\n",
              "      <td>-0.137156</td>\n",
              "      <td>-0.832126</td>\n",
              "      <td>-0.340664</td>\n",
              "      <td>-0.679447</td>\n",
              "      <td>-0.261793</td>\n",
              "      <td>3.210560</td>\n",
              "      <td>-0.815505</td>\n",
              "      <td>0.815505</td>\n",
              "      <td>-0.333513</td>\n",
              "      <td>-0.193128</td>\n",
              "      <td>-0.466638</td>\n",
              "      <td>-0.276333</td>\n",
              "      <td>-0.333513</td>\n",
              "      <td>-0.228358</td>\n",
              "      <td>-0.495745</td>\n",
              "      <td>1.901144</td>\n",
              "      <td>-0.230704</td>\n",
              "    </tr>\n",
              "    <tr>\n",
              "      <th>4</th>\n",
              "      <td>0</td>\n",
              "      <td>-0.651337</td>\n",
              "      <td>-2.022835</td>\n",
              "      <td>-0.758279</td>\n",
              "      <td>-0.907586</td>\n",
              "      <td>0.257606</td>\n",
              "      <td>-0.977228</td>\n",
              "      <td>-1.605036</td>\n",
              "      <td>-0.741424</td>\n",
              "      <td>-0.680858</td>\n",
              "      <td>1.668259</td>\n",
              "      <td>-0.608609</td>\n",
              "      <td>-0.433845</td>\n",
              "      <td>0.203698</td>\n",
              "      <td>-0.936437</td>\n",
              "      <td>1.781257</td>\n",
              "      <td>-0.484585</td>\n",
              "      <td>-0.619754</td>\n",
              "      <td>-0.058364</td>\n",
              "      <td>-0.311535</td>\n",
              "      <td>-0.211353</td>\n",
              "      <td>0.711750</td>\n",
              "      <td>-0.644520</td>\n",
              "      <td>-0.137156</td>\n",
              "      <td>-0.832126</td>\n",
              "      <td>-0.340664</td>\n",
              "      <td>1.471786</td>\n",
              "      <td>-0.261793</td>\n",
              "      <td>-0.311472</td>\n",
              "      <td>-0.815505</td>\n",
              "      <td>0.815505</td>\n",
              "      <td>-0.333513</td>\n",
              "      <td>-0.193128</td>\n",
              "      <td>-0.466638</td>\n",
              "      <td>-0.276333</td>\n",
              "      <td>-0.333513</td>\n",
              "      <td>-0.228358</td>\n",
              "      <td>2.017168</td>\n",
              "      <td>-0.525999</td>\n",
              "      <td>-0.230704</td>\n",
              "    </tr>\n",
              "  </tbody>\n",
              "</table>\n",
              "</div>\n",
              "      <button class=\"colab-df-convert\" onclick=\"convertToInteractive('df-cebcf4f9-c323-4c3f-82b1-7b0b91ed5aa7')\"\n",
              "              title=\"Convert this dataframe to an interactive table.\"\n",
              "              style=\"display:none;\">\n",
              "        \n",
              "  <svg xmlns=\"http://www.w3.org/2000/svg\" height=\"24px\"viewBox=\"0 0 24 24\"\n",
              "       width=\"24px\">\n",
              "    <path d=\"M0 0h24v24H0V0z\" fill=\"none\"/>\n",
              "    <path d=\"M18.56 5.44l.94 2.06.94-2.06 2.06-.94-2.06-.94-.94-2.06-.94 2.06-2.06.94zm-11 1L8.5 8.5l.94-2.06 2.06-.94-2.06-.94L8.5 2.5l-.94 2.06-2.06.94zm10 10l.94 2.06.94-2.06 2.06-.94-2.06-.94-.94-2.06-.94 2.06-2.06.94z\"/><path d=\"M17.41 7.96l-1.37-1.37c-.4-.4-.92-.59-1.43-.59-.52 0-1.04.2-1.43.59L10.3 9.45l-7.72 7.72c-.78.78-.78 2.05 0 2.83L4 21.41c.39.39.9.59 1.41.59.51 0 1.02-.2 1.41-.59l7.78-7.78 2.81-2.81c.8-.78.8-2.07 0-2.86zM5.41 20L4 18.59l7.72-7.72 1.47 1.35L5.41 20z\"/>\n",
              "  </svg>\n",
              "      </button>\n",
              "      \n",
              "  <style>\n",
              "    .colab-df-container {\n",
              "      display:flex;\n",
              "      flex-wrap:wrap;\n",
              "      gap: 12px;\n",
              "    }\n",
              "\n",
              "    .colab-df-convert {\n",
              "      background-color: #E8F0FE;\n",
              "      border: none;\n",
              "      border-radius: 50%;\n",
              "      cursor: pointer;\n",
              "      display: none;\n",
              "      fill: #1967D2;\n",
              "      height: 32px;\n",
              "      padding: 0 0 0 0;\n",
              "      width: 32px;\n",
              "    }\n",
              "\n",
              "    .colab-df-convert:hover {\n",
              "      background-color: #E2EBFA;\n",
              "      box-shadow: 0px 1px 2px rgba(60, 64, 67, 0.3), 0px 1px 3px 1px rgba(60, 64, 67, 0.15);\n",
              "      fill: #174EA6;\n",
              "    }\n",
              "\n",
              "    [theme=dark] .colab-df-convert {\n",
              "      background-color: #3B4455;\n",
              "      fill: #D2E3FC;\n",
              "    }\n",
              "\n",
              "    [theme=dark] .colab-df-convert:hover {\n",
              "      background-color: #434B5C;\n",
              "      box-shadow: 0px 1px 3px 1px rgba(0, 0, 0, 0.15);\n",
              "      filter: drop-shadow(0px 1px 2px rgba(0, 0, 0, 0.3));\n",
              "      fill: #FFFFFF;\n",
              "    }\n",
              "  </style>\n",
              "\n",
              "      <script>\n",
              "        const buttonEl =\n",
              "          document.querySelector('#df-cebcf4f9-c323-4c3f-82b1-7b0b91ed5aa7 button.colab-df-convert');\n",
              "        buttonEl.style.display =\n",
              "          google.colab.kernel.accessAllowed ? 'block' : 'none';\n",
              "\n",
              "        async function convertToInteractive(key) {\n",
              "          const element = document.querySelector('#df-cebcf4f9-c323-4c3f-82b1-7b0b91ed5aa7');\n",
              "          const dataTable =\n",
              "            await google.colab.kernel.invokeFunction('convertToInteractive',\n",
              "                                                     [key], {});\n",
              "          if (!dataTable) return;\n",
              "\n",
              "          const docLinkHtml = 'Like what you see? Visit the ' +\n",
              "            '<a target=\"_blank\" href=https://colab.research.google.com/notebooks/data_table.ipynb>data table notebook</a>'\n",
              "            + ' to learn more about interactive tables.';\n",
              "          element.innerHTML = '';\n",
              "          dataTable['output_type'] = 'display_data';\n",
              "          await google.colab.output.renderOutput(dataTable, element);\n",
              "          const docLink = document.createElement('div');\n",
              "          docLink.innerHTML = docLinkHtml;\n",
              "          element.appendChild(docLink);\n",
              "        }\n",
              "      </script>\n",
              "    </div>\n",
              "  </div>\n",
              "  "
            ]
          },
          "metadata": {},
          "execution_count": 29
        }
      ]
    },
    {
      "cell_type": "markdown",
      "source": [
        "### Print summary statistics (standardized)"
      ],
      "metadata": {
        "id": "uDtADOLRa8Gl"
      }
    },
    {
      "cell_type": "code",
      "source": [
        "df_train_eda.describe().round(3)"
      ],
      "metadata": {
        "colab": {
          "base_uri": "https://localhost:8080/"
        },
        "id": "X3cSLf9ja7Wc",
        "outputId": "d5084899-72c9-449f-b102-956abec9e55e"
      },
      "execution_count": null,
      "outputs": [
        {
          "output_type": "execute_result",
          "data": {
            "text/plain": [
              "       Attrition       Age  BusinessTravel  DistanceFromHome  Education  EnvironmentSatisfaction  JobLevel  JobSatisfaction  MonthlyIncome  NumCompaniesWorked  OverTime  PercentSalaryHike  PerformanceRating  StockOptionLevel  TotalWorkingYears  WorkLifeBalance  YearsAtCompany  YearsInCurrentRole  YearsSinceLastPromotion  YearsWithCurrManager  departmentHumanResources  departmentResearch&Development  departmentSales  educationfieldHumanResources  educationfieldLifeSciences  educationfieldMarketing  educationfieldMedical  educationfieldOther  educationfieldTechnicalDegree  genderFemale  genderMale  jobroleHealthcareRepresentative  jobroleHumanResources  jobroleLaboratoryTechnician  jobroleManager  jobroleManufacturingDirector  jobroleResearchDirector  jobroleResearchScientist  jobroleSalesExecutive  jobroleSalesRepresentative\n",
              "count   1029.000  1029.000        1029.000          1029.000   1029.000                 1029.000  1029.000         1029.000       1029.000            1029.000  1029.000           1029.000           1029.000          1029.000           1029.000         1029.000        1029.000            1029.000                 1029.000              1029.000                  1029.000                        1029.000         1029.000                      1029.000                    1029.000                 1029.000               1029.000             1029.000                       1029.000      1029.000    1029.000                         1029.000               1029.000                     1029.000        1029.000                      1029.000                 1029.000                  1029.000               1029.000                    1029.000\n",
              "mean       0.161    -0.000          -0.000             0.000     -0.000                   -0.000    -0.000           -0.000          0.000               0.000    -0.000             -0.000             -0.000             0.000             -0.000            0.000           0.000               0.000                   -0.000                -0.000                     0.000                           0.000           -0.000                        -0.000                      -0.000                    0.000                 -0.000               -0.000                         -0.000         0.000      -0.000                           -0.000                  0.000                        0.000           0.000                        -0.000                    0.000                    -0.000                  0.000                       0.000\n",
              "std        0.368     1.000           1.000             1.000      1.000                    1.000     1.000            1.000          1.000               1.000     1.000              1.000              1.000             1.000              1.000            1.000           1.000               1.000                    1.000                 1.000                     1.000                           1.000            1.000                         1.000                       1.000                    1.000                  1.000                1.000                          1.000         1.000       1.000                            1.000                  1.000                        1.000           1.000                         1.000                    1.000                     1.000                  1.000                       1.000\n",
              "min        0.000    -2.066          -2.023            -1.001     -1.906                   -1.540    -0.977           -1.605         -1.174              -1.076    -0.599             -1.154             -0.434            -0.948             -1.448           -2.449          -1.145              -1.181                   -0.681                -1.156                    -0.211                          -1.405           -0.645                        -0.137                      -0.832                   -0.341                 -0.679               -0.262                         -0.311        -0.816      -1.226                           -0.334                 -0.193                       -0.467          -0.276                        -0.334                   -0.228                    -0.496                 -0.526                      -0.231\n",
              "25%        0.000    -0.760          -0.148            -0.880     -0.908                   -0.641    -0.977           -0.691         -0.769              -0.681    -0.599             -0.881             -0.434            -0.948             -0.681           -1.039          -0.650              -0.620                   -0.681                -0.593                    -0.211                          -1.405           -0.645                        -0.137                      -0.832                   -0.341                 -0.679               -0.262                         -0.311        -0.816      -1.226                           -0.334                 -0.193                       -0.467          -0.276                        -0.334                   -0.228                    -0.496                 -0.526                      -0.231\n",
              "50%        0.000    -0.107          -0.148            -0.273      0.091                    0.258    -0.065            0.223         -0.332              -0.286    -0.599             -0.336             -0.434             0.204             -0.170            0.371          -0.320              -0.339                   -0.370                -0.312                    -0.211                           0.712           -0.645                        -0.137                      -0.832                   -0.341                 -0.679               -0.262                         -0.311        -0.816       0.816                           -0.334                 -0.193                       -0.467          -0.276                        -0.334                   -0.228                    -0.496                 -0.526                      -0.231\n",
              "75%        0.000     0.655          -0.148             0.697      1.090                    1.156     0.848            1.137          0.400               0.505     1.668              0.755             -0.434             0.204              0.469            0.371           0.340               0.783                    0.253                 0.814                    -0.211                           0.712            1.552                        -0.137                       1.202                   -0.341                  1.472               -0.262                         -0.311         1.226       0.816                           -0.334                 -0.193                       -0.467          -0.276                        -0.334                   -0.228                    -0.496                 -0.526                      -0.231\n",
              "max        1.000     2.504           1.728             2.395      2.089                    1.156     2.673            1.137          2.896               2.480     1.668              2.665              2.305             2.507              3.664            1.781           5.456               3.869                    3.987                 3.629                     4.731                           0.712            1.552                         7.291                       1.202                    2.935                  1.472                3.820                          3.211         1.226       0.816                            2.998                  5.178                        2.143           3.619                         2.998                    4.379                     2.017                  1.901                       4.335"
            ],
            "text/html": [
              "\n",
              "  <div id=\"df-d5bd6dd6-878b-41a5-a62e-9196e1f5b8d6\">\n",
              "    <div class=\"colab-df-container\">\n",
              "      <div>\n",
              "<style scoped>\n",
              "    .dataframe tbody tr th:only-of-type {\n",
              "        vertical-align: middle;\n",
              "    }\n",
              "\n",
              "    .dataframe tbody tr th {\n",
              "        vertical-align: top;\n",
              "    }\n",
              "\n",
              "    .dataframe thead th {\n",
              "        text-align: right;\n",
              "    }\n",
              "</style>\n",
              "<table border=\"1\" class=\"dataframe\">\n",
              "  <thead>\n",
              "    <tr style=\"text-align: right;\">\n",
              "      <th></th>\n",
              "      <th>Attrition</th>\n",
              "      <th>Age</th>\n",
              "      <th>BusinessTravel</th>\n",
              "      <th>DistanceFromHome</th>\n",
              "      <th>Education</th>\n",
              "      <th>EnvironmentSatisfaction</th>\n",
              "      <th>JobLevel</th>\n",
              "      <th>JobSatisfaction</th>\n",
              "      <th>MonthlyIncome</th>\n",
              "      <th>NumCompaniesWorked</th>\n",
              "      <th>OverTime</th>\n",
              "      <th>PercentSalaryHike</th>\n",
              "      <th>PerformanceRating</th>\n",
              "      <th>StockOptionLevel</th>\n",
              "      <th>TotalWorkingYears</th>\n",
              "      <th>WorkLifeBalance</th>\n",
              "      <th>YearsAtCompany</th>\n",
              "      <th>YearsInCurrentRole</th>\n",
              "      <th>YearsSinceLastPromotion</th>\n",
              "      <th>YearsWithCurrManager</th>\n",
              "      <th>departmentHumanResources</th>\n",
              "      <th>departmentResearch&amp;Development</th>\n",
              "      <th>departmentSales</th>\n",
              "      <th>educationfieldHumanResources</th>\n",
              "      <th>educationfieldLifeSciences</th>\n",
              "      <th>educationfieldMarketing</th>\n",
              "      <th>educationfieldMedical</th>\n",
              "      <th>educationfieldOther</th>\n",
              "      <th>educationfieldTechnicalDegree</th>\n",
              "      <th>genderFemale</th>\n",
              "      <th>genderMale</th>\n",
              "      <th>jobroleHealthcareRepresentative</th>\n",
              "      <th>jobroleHumanResources</th>\n",
              "      <th>jobroleLaboratoryTechnician</th>\n",
              "      <th>jobroleManager</th>\n",
              "      <th>jobroleManufacturingDirector</th>\n",
              "      <th>jobroleResearchDirector</th>\n",
              "      <th>jobroleResearchScientist</th>\n",
              "      <th>jobroleSalesExecutive</th>\n",
              "      <th>jobroleSalesRepresentative</th>\n",
              "    </tr>\n",
              "  </thead>\n",
              "  <tbody>\n",
              "    <tr>\n",
              "      <th>count</th>\n",
              "      <td>1029.000</td>\n",
              "      <td>1029.000</td>\n",
              "      <td>1029.000</td>\n",
              "      <td>1029.000</td>\n",
              "      <td>1029.000</td>\n",
              "      <td>1029.000</td>\n",
              "      <td>1029.000</td>\n",
              "      <td>1029.000</td>\n",
              "      <td>1029.000</td>\n",
              "      <td>1029.000</td>\n",
              "      <td>1029.000</td>\n",
              "      <td>1029.000</td>\n",
              "      <td>1029.000</td>\n",
              "      <td>1029.000</td>\n",
              "      <td>1029.000</td>\n",
              "      <td>1029.000</td>\n",
              "      <td>1029.000</td>\n",
              "      <td>1029.000</td>\n",
              "      <td>1029.000</td>\n",
              "      <td>1029.000</td>\n",
              "      <td>1029.000</td>\n",
              "      <td>1029.000</td>\n",
              "      <td>1029.000</td>\n",
              "      <td>1029.000</td>\n",
              "      <td>1029.000</td>\n",
              "      <td>1029.000</td>\n",
              "      <td>1029.000</td>\n",
              "      <td>1029.000</td>\n",
              "      <td>1029.000</td>\n",
              "      <td>1029.000</td>\n",
              "      <td>1029.000</td>\n",
              "      <td>1029.000</td>\n",
              "      <td>1029.000</td>\n",
              "      <td>1029.000</td>\n",
              "      <td>1029.000</td>\n",
              "      <td>1029.000</td>\n",
              "      <td>1029.000</td>\n",
              "      <td>1029.000</td>\n",
              "      <td>1029.000</td>\n",
              "      <td>1029.000</td>\n",
              "    </tr>\n",
              "    <tr>\n",
              "      <th>mean</th>\n",
              "      <td>0.161</td>\n",
              "      <td>-0.000</td>\n",
              "      <td>-0.000</td>\n",
              "      <td>0.000</td>\n",
              "      <td>-0.000</td>\n",
              "      <td>-0.000</td>\n",
              "      <td>-0.000</td>\n",
              "      <td>-0.000</td>\n",
              "      <td>0.000</td>\n",
              "      <td>0.000</td>\n",
              "      <td>-0.000</td>\n",
              "      <td>-0.000</td>\n",
              "      <td>-0.000</td>\n",
              "      <td>0.000</td>\n",
              "      <td>-0.000</td>\n",
              "      <td>0.000</td>\n",
              "      <td>0.000</td>\n",
              "      <td>0.000</td>\n",
              "      <td>-0.000</td>\n",
              "      <td>-0.000</td>\n",
              "      <td>0.000</td>\n",
              "      <td>0.000</td>\n",
              "      <td>-0.000</td>\n",
              "      <td>-0.000</td>\n",
              "      <td>-0.000</td>\n",
              "      <td>0.000</td>\n",
              "      <td>-0.000</td>\n",
              "      <td>-0.000</td>\n",
              "      <td>-0.000</td>\n",
              "      <td>0.000</td>\n",
              "      <td>-0.000</td>\n",
              "      <td>-0.000</td>\n",
              "      <td>0.000</td>\n",
              "      <td>0.000</td>\n",
              "      <td>0.000</td>\n",
              "      <td>-0.000</td>\n",
              "      <td>0.000</td>\n",
              "      <td>-0.000</td>\n",
              "      <td>0.000</td>\n",
              "      <td>0.000</td>\n",
              "    </tr>\n",
              "    <tr>\n",
              "      <th>std</th>\n",
              "      <td>0.368</td>\n",
              "      <td>1.000</td>\n",
              "      <td>1.000</td>\n",
              "      <td>1.000</td>\n",
              "      <td>1.000</td>\n",
              "      <td>1.000</td>\n",
              "      <td>1.000</td>\n",
              "      <td>1.000</td>\n",
              "      <td>1.000</td>\n",
              "      <td>1.000</td>\n",
              "      <td>1.000</td>\n",
              "      <td>1.000</td>\n",
              "      <td>1.000</td>\n",
              "      <td>1.000</td>\n",
              "      <td>1.000</td>\n",
              "      <td>1.000</td>\n",
              "      <td>1.000</td>\n",
              "      <td>1.000</td>\n",
              "      <td>1.000</td>\n",
              "      <td>1.000</td>\n",
              "      <td>1.000</td>\n",
              "      <td>1.000</td>\n",
              "      <td>1.000</td>\n",
              "      <td>1.000</td>\n",
              "      <td>1.000</td>\n",
              "      <td>1.000</td>\n",
              "      <td>1.000</td>\n",
              "      <td>1.000</td>\n",
              "      <td>1.000</td>\n",
              "      <td>1.000</td>\n",
              "      <td>1.000</td>\n",
              "      <td>1.000</td>\n",
              "      <td>1.000</td>\n",
              "      <td>1.000</td>\n",
              "      <td>1.000</td>\n",
              "      <td>1.000</td>\n",
              "      <td>1.000</td>\n",
              "      <td>1.000</td>\n",
              "      <td>1.000</td>\n",
              "      <td>1.000</td>\n",
              "    </tr>\n",
              "    <tr>\n",
              "      <th>min</th>\n",
              "      <td>0.000</td>\n",
              "      <td>-2.066</td>\n",
              "      <td>-2.023</td>\n",
              "      <td>-1.001</td>\n",
              "      <td>-1.906</td>\n",
              "      <td>-1.540</td>\n",
              "      <td>-0.977</td>\n",
              "      <td>-1.605</td>\n",
              "      <td>-1.174</td>\n",
              "      <td>-1.076</td>\n",
              "      <td>-0.599</td>\n",
              "      <td>-1.154</td>\n",
              "      <td>-0.434</td>\n",
              "      <td>-0.948</td>\n",
              "      <td>-1.448</td>\n",
              "      <td>-2.449</td>\n",
              "      <td>-1.145</td>\n",
              "      <td>-1.181</td>\n",
              "      <td>-0.681</td>\n",
              "      <td>-1.156</td>\n",
              "      <td>-0.211</td>\n",
              "      <td>-1.405</td>\n",
              "      <td>-0.645</td>\n",
              "      <td>-0.137</td>\n",
              "      <td>-0.832</td>\n",
              "      <td>-0.341</td>\n",
              "      <td>-0.679</td>\n",
              "      <td>-0.262</td>\n",
              "      <td>-0.311</td>\n",
              "      <td>-0.816</td>\n",
              "      <td>-1.226</td>\n",
              "      <td>-0.334</td>\n",
              "      <td>-0.193</td>\n",
              "      <td>-0.467</td>\n",
              "      <td>-0.276</td>\n",
              "      <td>-0.334</td>\n",
              "      <td>-0.228</td>\n",
              "      <td>-0.496</td>\n",
              "      <td>-0.526</td>\n",
              "      <td>-0.231</td>\n",
              "    </tr>\n",
              "    <tr>\n",
              "      <th>25%</th>\n",
              "      <td>0.000</td>\n",
              "      <td>-0.760</td>\n",
              "      <td>-0.148</td>\n",
              "      <td>-0.880</td>\n",
              "      <td>-0.908</td>\n",
              "      <td>-0.641</td>\n",
              "      <td>-0.977</td>\n",
              "      <td>-0.691</td>\n",
              "      <td>-0.769</td>\n",
              "      <td>-0.681</td>\n",
              "      <td>-0.599</td>\n",
              "      <td>-0.881</td>\n",
              "      <td>-0.434</td>\n",
              "      <td>-0.948</td>\n",
              "      <td>-0.681</td>\n",
              "      <td>-1.039</td>\n",
              "      <td>-0.650</td>\n",
              "      <td>-0.620</td>\n",
              "      <td>-0.681</td>\n",
              "      <td>-0.593</td>\n",
              "      <td>-0.211</td>\n",
              "      <td>-1.405</td>\n",
              "      <td>-0.645</td>\n",
              "      <td>-0.137</td>\n",
              "      <td>-0.832</td>\n",
              "      <td>-0.341</td>\n",
              "      <td>-0.679</td>\n",
              "      <td>-0.262</td>\n",
              "      <td>-0.311</td>\n",
              "      <td>-0.816</td>\n",
              "      <td>-1.226</td>\n",
              "      <td>-0.334</td>\n",
              "      <td>-0.193</td>\n",
              "      <td>-0.467</td>\n",
              "      <td>-0.276</td>\n",
              "      <td>-0.334</td>\n",
              "      <td>-0.228</td>\n",
              "      <td>-0.496</td>\n",
              "      <td>-0.526</td>\n",
              "      <td>-0.231</td>\n",
              "    </tr>\n",
              "    <tr>\n",
              "      <th>50%</th>\n",
              "      <td>0.000</td>\n",
              "      <td>-0.107</td>\n",
              "      <td>-0.148</td>\n",
              "      <td>-0.273</td>\n",
              "      <td>0.091</td>\n",
              "      <td>0.258</td>\n",
              "      <td>-0.065</td>\n",
              "      <td>0.223</td>\n",
              "      <td>-0.332</td>\n",
              "      <td>-0.286</td>\n",
              "      <td>-0.599</td>\n",
              "      <td>-0.336</td>\n",
              "      <td>-0.434</td>\n",
              "      <td>0.204</td>\n",
              "      <td>-0.170</td>\n",
              "      <td>0.371</td>\n",
              "      <td>-0.320</td>\n",
              "      <td>-0.339</td>\n",
              "      <td>-0.370</td>\n",
              "      <td>-0.312</td>\n",
              "      <td>-0.211</td>\n",
              "      <td>0.712</td>\n",
              "      <td>-0.645</td>\n",
              "      <td>-0.137</td>\n",
              "      <td>-0.832</td>\n",
              "      <td>-0.341</td>\n",
              "      <td>-0.679</td>\n",
              "      <td>-0.262</td>\n",
              "      <td>-0.311</td>\n",
              "      <td>-0.816</td>\n",
              "      <td>0.816</td>\n",
              "      <td>-0.334</td>\n",
              "      <td>-0.193</td>\n",
              "      <td>-0.467</td>\n",
              "      <td>-0.276</td>\n",
              "      <td>-0.334</td>\n",
              "      <td>-0.228</td>\n",
              "      <td>-0.496</td>\n",
              "      <td>-0.526</td>\n",
              "      <td>-0.231</td>\n",
              "    </tr>\n",
              "    <tr>\n",
              "      <th>75%</th>\n",
              "      <td>0.000</td>\n",
              "      <td>0.655</td>\n",
              "      <td>-0.148</td>\n",
              "      <td>0.697</td>\n",
              "      <td>1.090</td>\n",
              "      <td>1.156</td>\n",
              "      <td>0.848</td>\n",
              "      <td>1.137</td>\n",
              "      <td>0.400</td>\n",
              "      <td>0.505</td>\n",
              "      <td>1.668</td>\n",
              "      <td>0.755</td>\n",
              "      <td>-0.434</td>\n",
              "      <td>0.204</td>\n",
              "      <td>0.469</td>\n",
              "      <td>0.371</td>\n",
              "      <td>0.340</td>\n",
              "      <td>0.783</td>\n",
              "      <td>0.253</td>\n",
              "      <td>0.814</td>\n",
              "      <td>-0.211</td>\n",
              "      <td>0.712</td>\n",
              "      <td>1.552</td>\n",
              "      <td>-0.137</td>\n",
              "      <td>1.202</td>\n",
              "      <td>-0.341</td>\n",
              "      <td>1.472</td>\n",
              "      <td>-0.262</td>\n",
              "      <td>-0.311</td>\n",
              "      <td>1.226</td>\n",
              "      <td>0.816</td>\n",
              "      <td>-0.334</td>\n",
              "      <td>-0.193</td>\n",
              "      <td>-0.467</td>\n",
              "      <td>-0.276</td>\n",
              "      <td>-0.334</td>\n",
              "      <td>-0.228</td>\n",
              "      <td>-0.496</td>\n",
              "      <td>-0.526</td>\n",
              "      <td>-0.231</td>\n",
              "    </tr>\n",
              "    <tr>\n",
              "      <th>max</th>\n",
              "      <td>1.000</td>\n",
              "      <td>2.504</td>\n",
              "      <td>1.728</td>\n",
              "      <td>2.395</td>\n",
              "      <td>2.089</td>\n",
              "      <td>1.156</td>\n",
              "      <td>2.673</td>\n",
              "      <td>1.137</td>\n",
              "      <td>2.896</td>\n",
              "      <td>2.480</td>\n",
              "      <td>1.668</td>\n",
              "      <td>2.665</td>\n",
              "      <td>2.305</td>\n",
              "      <td>2.507</td>\n",
              "      <td>3.664</td>\n",
              "      <td>1.781</td>\n",
              "      <td>5.456</td>\n",
              "      <td>3.869</td>\n",
              "      <td>3.987</td>\n",
              "      <td>3.629</td>\n",
              "      <td>4.731</td>\n",
              "      <td>0.712</td>\n",
              "      <td>1.552</td>\n",
              "      <td>7.291</td>\n",
              "      <td>1.202</td>\n",
              "      <td>2.935</td>\n",
              "      <td>1.472</td>\n",
              "      <td>3.820</td>\n",
              "      <td>3.211</td>\n",
              "      <td>1.226</td>\n",
              "      <td>0.816</td>\n",
              "      <td>2.998</td>\n",
              "      <td>5.178</td>\n",
              "      <td>2.143</td>\n",
              "      <td>3.619</td>\n",
              "      <td>2.998</td>\n",
              "      <td>4.379</td>\n",
              "      <td>2.017</td>\n",
              "      <td>1.901</td>\n",
              "      <td>4.335</td>\n",
              "    </tr>\n",
              "  </tbody>\n",
              "</table>\n",
              "</div>\n",
              "      <button class=\"colab-df-convert\" onclick=\"convertToInteractive('df-d5bd6dd6-878b-41a5-a62e-9196e1f5b8d6')\"\n",
              "              title=\"Convert this dataframe to an interactive table.\"\n",
              "              style=\"display:none;\">\n",
              "        \n",
              "  <svg xmlns=\"http://www.w3.org/2000/svg\" height=\"24px\"viewBox=\"0 0 24 24\"\n",
              "       width=\"24px\">\n",
              "    <path d=\"M0 0h24v24H0V0z\" fill=\"none\"/>\n",
              "    <path d=\"M18.56 5.44l.94 2.06.94-2.06 2.06-.94-2.06-.94-.94-2.06-.94 2.06-2.06.94zm-11 1L8.5 8.5l.94-2.06 2.06-.94-2.06-.94L8.5 2.5l-.94 2.06-2.06.94zm10 10l.94 2.06.94-2.06 2.06-.94-2.06-.94-.94-2.06-.94 2.06-2.06.94z\"/><path d=\"M17.41 7.96l-1.37-1.37c-.4-.4-.92-.59-1.43-.59-.52 0-1.04.2-1.43.59L10.3 9.45l-7.72 7.72c-.78.78-.78 2.05 0 2.83L4 21.41c.39.39.9.59 1.41.59.51 0 1.02-.2 1.41-.59l7.78-7.78 2.81-2.81c.8-.78.8-2.07 0-2.86zM5.41 20L4 18.59l7.72-7.72 1.47 1.35L5.41 20z\"/>\n",
              "  </svg>\n",
              "      </button>\n",
              "      \n",
              "  <style>\n",
              "    .colab-df-container {\n",
              "      display:flex;\n",
              "      flex-wrap:wrap;\n",
              "      gap: 12px;\n",
              "    }\n",
              "\n",
              "    .colab-df-convert {\n",
              "      background-color: #E8F0FE;\n",
              "      border: none;\n",
              "      border-radius: 50%;\n",
              "      cursor: pointer;\n",
              "      display: none;\n",
              "      fill: #1967D2;\n",
              "      height: 32px;\n",
              "      padding: 0 0 0 0;\n",
              "      width: 32px;\n",
              "    }\n",
              "\n",
              "    .colab-df-convert:hover {\n",
              "      background-color: #E2EBFA;\n",
              "      box-shadow: 0px 1px 2px rgba(60, 64, 67, 0.3), 0px 1px 3px 1px rgba(60, 64, 67, 0.15);\n",
              "      fill: #174EA6;\n",
              "    }\n",
              "\n",
              "    [theme=dark] .colab-df-convert {\n",
              "      background-color: #3B4455;\n",
              "      fill: #D2E3FC;\n",
              "    }\n",
              "\n",
              "    [theme=dark] .colab-df-convert:hover {\n",
              "      background-color: #434B5C;\n",
              "      box-shadow: 0px 1px 3px 1px rgba(0, 0, 0, 0.15);\n",
              "      filter: drop-shadow(0px 1px 2px rgba(0, 0, 0, 0.3));\n",
              "      fill: #FFFFFF;\n",
              "    }\n",
              "  </style>\n",
              "\n",
              "      <script>\n",
              "        const buttonEl =\n",
              "          document.querySelector('#df-d5bd6dd6-878b-41a5-a62e-9196e1f5b8d6 button.colab-df-convert');\n",
              "        buttonEl.style.display =\n",
              "          google.colab.kernel.accessAllowed ? 'block' : 'none';\n",
              "\n",
              "        async function convertToInteractive(key) {\n",
              "          const element = document.querySelector('#df-d5bd6dd6-878b-41a5-a62e-9196e1f5b8d6');\n",
              "          const dataTable =\n",
              "            await google.colab.kernel.invokeFunction('convertToInteractive',\n",
              "                                                     [key], {});\n",
              "          if (!dataTable) return;\n",
              "\n",
              "          const docLinkHtml = 'Like what you see? Visit the ' +\n",
              "            '<a target=\"_blank\" href=https://colab.research.google.com/notebooks/data_table.ipynb>data table notebook</a>'\n",
              "            + ' to learn more about interactive tables.';\n",
              "          element.innerHTML = '';\n",
              "          dataTable['output_type'] = 'display_data';\n",
              "          await google.colab.output.renderOutput(dataTable, element);\n",
              "          const docLink = document.createElement('div');\n",
              "          docLink.innerHTML = docLinkHtml;\n",
              "          element.appendChild(docLink);\n",
              "        }\n",
              "      </script>\n",
              "    </div>\n",
              "  </div>\n",
              "  "
            ]
          },
          "metadata": {},
          "execution_count": 30
        }
      ]
    },
    {
      "cell_type": "markdown",
      "source": [
        "### Data profiling\n",
        "\n",
        "pandas_profiling is an excellent tool of visualizing each feature. It generates an HTML file called eda_profile.html. Please open and review the details. From the pandas profile, these four columns have no predicting power:\n",
        "- EmployeeCount, all values are 1\n",
        "- EmployeeNumber, should not influence the outcome\n",
        "- Over18, all values are 1\n",
        "- StandardHours, all values are 80\n",
        "\n",
        "Let's consider dropping them."
      ],
      "metadata": {
        "id": "_Ngl75Pl-lNV"
      }
    },
    {
      "cell_type": "code",
      "source": [
        "#!pip install pandas_profiling==3.6.3"
      ],
      "metadata": {
        "id": "aMJnFTBpujK2"
      },
      "execution_count": null,
      "outputs": []
    },
    {
      "cell_type": "code",
      "execution_count": null,
      "metadata": {
        "id": "09d64b55",
        "scrolled": true
      },
      "outputs": [],
      "source": [
        "# Note that the following EDA profile takes a few minutes to generate\n",
        "from pandas_profiling import ProfileReport\n",
        "\n",
        "def generate_pandas_profile_eda():\n",
        "    \"\"\"Function to generate html files containing profiles of the data sets for EDA purposes.\"\"\"\n",
        "\n",
        "    # Create and save data profile to an html file. Go to google drive and download eda_profile.html to local to view.\n",
        "    df_profile = ProfileReport(df, minimal=True, title=\"Employee Attrition Data Report\", html={\"style\": {\"full_width\": True}})\n",
        "    df_profile.to_file(output_file=\"/content/drive/MyDrive/207-MachineLearning/207_final_project/eda_profile.html\")\n",
        "\n",
        "# uncomment to generate pandas profile HTML\n",
        "# generate_pandas_profile_eda()"
      ]
    },
    {
      "cell_type": "markdown",
      "source": [
        "### Explore categorical variable distribution"
      ],
      "metadata": {
        "id": "dklcDKA1B0Fu"
      }
    },
    {
      "cell_type": "code",
      "source": [
        "## I didn't include these categorical variables in the df_train_eda dataframe I created, so I'm \n",
        "## referencing the entire original dataset. Not sure if that if we are supposed to do that. We can\n",
        "## cut this entirely if it doesn't add value/is more trouble than it's worth to incorporate\n",
        "categorical_features = ['Department', 'EducationField', 'JobRole']\n",
        "for idx, f in enumerate(categorical_features):\n",
        "    temp_df = df[f'{f}'].value_counts()\n",
        "    temp_df.columns = [f'{f}', 'Counts']\n",
        "    temp_df.plot(kind='bar')\n",
        "    plt.title(f'Employee Counts by {f}')\n",
        "    plt.show()\n",
        "    print('-'*45)"
      ],
      "metadata": {
        "colab": {
          "base_uri": "https://localhost:8080/"
        },
        "id": "TUgHlb1iB0oo",
        "outputId": "217197ef-746a-4e5f-c6c1-76a94aeea794"
      },
      "execution_count": null,
      "outputs": [
        {
          "output_type": "stream",
          "name": "stdout",
          "text": [
            "---------------------------------------------\n",
            "---------------------------------------------\n",
            "---------------------------------------------\n"
          ]
        }
      ]
    },
    {
      "cell_type": "markdown",
      "source": [
        "### Heatmap"
      ],
      "metadata": {
        "id": "rMzv06y1BA8O"
      }
    },
    {
      "cell_type": "code",
      "source": [
        "cm = df_train_eda[['Attrition', 'genderFemale', 'genderMale', 'JobSatisfaction', \n",
        "                   'MonthlyIncome','NumCompaniesWorked', 'PerformanceRating', 'StockOptionLevel',\n",
        "                   'WorkLifeBalance', 'YearsSinceLastPromotion',]].corr()\n",
        "\n",
        "fig, ax = plt.subplots(figsize=(12, 8))\n",
        "\n",
        "sns.heatmap(cm, \n",
        "            cmap='Blues', \n",
        "            xticklabels=True, \n",
        "            yticklabels=True, \n",
        "            annot=True, \n",
        "            annot_kws={\"fontsize\":14},\n",
        "            cbar=True)\n",
        "plt.title('Attrition Correlation Heatmap', fontsize=14)\n",
        "plt.show()"
      ],
      "metadata": {
        "id": "l6Qz63CUBCaw"
      },
      "execution_count": null,
      "outputs": []
    },
    {
      "cell_type": "markdown",
      "source": [
        "### Calculate baseline log loss & attrition rates from df_train_eda"
      ],
      "metadata": {
        "id": "gHL8ih7BF4WM"
      }
    },
    {
      "cell_type": "code",
      "source": [
        "# Calculate baseline of the training data.\n",
        "# We use the majority class baseline to classify everyone as no attrition.\n",
        "\n",
        "y_pred_baseline = np.arange(df_train_eda.shape[0])\n",
        "y_pred_baseline.fill(0) # 0 is no attrition\n",
        "\n",
        "baseline_log_loss = log_loss(df_train_eda.Attrition, y_pred_baseline)\n",
        "print(f\"Baseline log loss: {baseline_log_loss}\")\n"
      ],
      "metadata": {
        "colab": {
          "base_uri": "https://localhost:8080/"
        },
        "id": "5AaDMPpFAL28",
        "outputId": "02a12f29-9aad-4722-8de1-d93e39f05bbd"
      },
      "execution_count": null,
      "outputs": [
        {
          "output_type": "stream",
          "name": "stdout",
          "text": [
            "Baseline log loss: 5.571853140481218\n"
          ]
        }
      ]
    },
    {
      "cell_type": "code",
      "source": [
        "# Attrition of employees\n",
        "print(df_train_eda['Attrition'].value_counts(),'\\n')\n",
        "\n",
        "# Total attrition rate\n",
        "baseline_attrition_rate = (df_train_eda[(df_train_eda['Attrition'] == 1)].shape[0]) / (df_train_eda.shape[0])*100\n",
        "print(\"Baseline attrition rate: {:.1f}%.\".format(baseline_attrition_rate))"
      ],
      "metadata": {
        "colab": {
          "base_uri": "https://localhost:8080/"
        },
        "id": "oTVIfO8SEK-s",
        "outputId": "61331d53-b02b-43c4-f97e-c82a3cabe7da"
      },
      "execution_count": null,
      "outputs": [
        {
          "output_type": "stream",
          "name": "stdout",
          "text": [
            "0    863\n",
            "1    166\n",
            "Name: Attrition, dtype: int64 \n",
            "\n",
            "Baseline attrition rate: 16.1%.\n"
          ]
        }
      ]
    },
    {
      "cell_type": "markdown",
      "source": [
        "# Decision Tree"
      ],
      "metadata": {
        "id": "Kr0tQeehSOE1"
      }
    },
    {
      "cell_type": "code",
      "source": [
        "def information_gain(data, labels, feature, threshold=0):\n",
        "    ''' Computes information gain\n",
        "    # param data: an array of featurized examples\n",
        "    # param labels: an array of labels corresponding to the the data\n",
        "    # param feature: the feature to use to split the data\n",
        "    # param threshold: the feature value to use to split the data (the default threshold is good for binary features)\n",
        "    '''\n",
        "    # Get the initial entropy of the label distribution.\n",
        "    initial_entropy = entropy(get_parent_distribution(labels))\n",
        "    \n",
        "    # subset0 will contain the labels for which the feature is 0 and\n",
        "    # subset1 will contain the labels for which the feature is 1.\n",
        "    subset0, subset1 = [], []\n",
        "    for datum, label in zip(data, labels):\n",
        "        if datum[feature] > threshold:\n",
        "            subset1.append(label)\n",
        "        else: \n",
        "            subset0.append(label)\n",
        "    \n",
        "    # Compute the entropy of each subset.\n",
        "    subset0_entropy = entropy(get_parent_distribution(subset0))\n",
        "    subset1_entropy = entropy(get_parent_distribution(subset1))\n",
        "    \n",
        "    # Compute the final entropy by weighting each subset's entropy according to its size.\n",
        "    subset0_weight = 1.0 * len(subset0) / len(labels)\n",
        "    subset1_weight = 1.0 * len(subset1) / len(labels)\n",
        "    final_entropy = subset0_weight * subset0_entropy + subset1_weight * subset1_entropy\n",
        "    \n",
        "    # Finally, compute information gain as the difference between the initial and final entropy.\n",
        "    return initial_entropy - final_entropy"
      ],
      "metadata": {
        "id": "OPi02EjIRiCu"
      },
      "execution_count": null,
      "outputs": []
    },
    {
      "cell_type": "code",
      "source": [
        "def entropy(distribution):\n",
        "    ''' Computes the entropy index\n",
        "    # param distribution: list containing distributions\n",
        "    # return entropy index\n",
        "    '''\n",
        "    entropy_index = 0.0\n",
        "    for probability in distribution:\n",
        "        logprob = -100.0  # log(0) = -inf so let's approximate it with -100 to avoid an error\n",
        "        if probability > 0.0: \n",
        "            logprob = np.log2(probability)\n",
        "        entropy_index -= probability * logprob\n",
        "        \n",
        "    return entropy_index"
      ],
      "metadata": {
        "id": "EhQbs7UfqDW7"
      },
      "execution_count": null,
      "outputs": []
    },
    {
      "cell_type": "code",
      "source": [
        "def get_parent_distribution(labels):\n",
        "    ''' Computes parent distirbution\n",
        "    # param labels: << your turn to comment here >>\n",
        "    # return: <<your turn to comment here >>\n",
        "    '''\n",
        "    # Initialize counters for all labels to zero.\n",
        "    label_probs = np.array([0.0 for i in range(len(np.unique(labels)))])\n",
        "\n",
        "    # Iterate over labels in the training data and update counts.\n",
        "    for label in labels:\n",
        "        label_probs[label] += 1.0\n",
        "    \n",
        "    # Normalize to get a distribution.\n",
        "    label_probs /= label_probs.sum()\n",
        "    \n",
        "    return label_probs"
      ],
      "metadata": {
        "id": "X9p7nrYHqfl6"
      },
      "execution_count": null,
      "outputs": []
    },
    {
      "cell_type": "code",
      "source": [
        "binarize_threshold = []\n",
        "\n",
        "df = df_train_eda.copy()\n",
        "df_b = df_train_eda.copy()\n",
        "\n",
        "for feature in features_subset:\n",
        "    df_b[feature] = np.where(df_b[feature] >= df_b[feature].mean(), 1, 0)\n",
        "    binarize_threshold.append(df_b[feature].mean())\n",
        "print('Binarize thresholds:\\n', binarize_threshold)\n",
        "df_b.head()"
      ],
      "metadata": {
        "id": "ZBuncwPOeAaf",
        "colab": {
          "base_uri": "https://localhost:8080/",
          "height": 305
        },
        "outputId": "2fbe756a-66a3-4817-d7b5-549ebb4bf333"
      },
      "execution_count": null,
      "outputs": [
        {
          "output_type": "stream",
          "name": "stdout",
          "text": [
            "Binarize thresholds:\n",
            " [0.4557823129251701, 0.184645286686103, 0.35471331389698735, 0.6977648202137998, 0.6122448979591837, 0.26822157434402333, 0.6248785228377065, 0.337220602526725, 0.4159378036929057, 0.26433430515063167, 0.3741496598639456, 0.15840621963070942, 0.5840621963070942, 0.3401360544217687, 0.7026239067055393, 0.41690962099125367, 0.37026239067055394, 0.25072886297376096, 0.3663751214771623]\n"
          ]
        },
        {
          "output_type": "execute_result",
          "data": {
            "text/plain": [
              "   Attrition  Age  BusinessTravel  DistanceFromHome  Education  EnvironmentSatisfaction  JobLevel  JobSatisfaction  MonthlyIncome  NumCompaniesWorked  OverTime  PercentSalaryHike  PerformanceRating  StockOptionLevel  TotalWorkingYears  WorkLifeBalance  YearsAtCompany  YearsInCurrentRole  YearsSinceLastPromotion  YearsWithCurrManager  departmentHumanResources  departmentResearch&Development  departmentSales  educationfieldHumanResources  educationfieldLifeSciences  educationfieldMarketing  educationfieldMedical  educationfieldOther  educationfieldTechnicalDegree  genderFemale  genderMale  jobroleHealthcareRepresentative  jobroleHumanResources  jobroleLaboratoryTechnician  jobroleManager  jobroleManufacturingDirector  jobroleResearchDirector  jobroleResearchScientist  jobroleSalesExecutive  jobroleSalesRepresentative\n",
              "0          0    0               0                 1          0                        1         0                0              1                   0         0                  0                  0                 1                  0                0               1                   1                        0                     1                 -0.211353                        0.711750        -0.644520                     -0.137156                    1.201741                -0.340664              -0.679447            -0.261793                      -0.311472     -0.815505    0.815505                        -0.333513              -0.193128                    -0.466638       -0.276333                      2.998381                -0.228358                 -0.495745              -0.525999                   -0.230704\n",
              "1          0    0               0                 0          1                        0         0                0              0                   0         0                  0                  0                 1                  0                0               0                   0                        0                     0                 -0.211353                       -1.404987         1.551543                     -0.137156                    1.201741                -0.340664              -0.679447            -0.261793                      -0.311472     -0.815505    0.815505                        -0.333513              -0.193128                    -0.466638       -0.276333                     -0.333513                -0.228358                 -0.495745               1.901144                   -0.230704\n",
              "2          0    1               0                 0          1                        1         1                1              1                   0         0                  0                  0                 1                  1                1               1                   1                        0                     1                  4.731423                       -1.404987        -0.644520                      7.290946                   -0.832126                -0.340664              -0.679447            -0.261793                      -0.311472     -0.815505    0.815505                        -0.333513              -0.193128                    -0.466638        3.618824                     -0.333513                -0.228358                 -0.495745              -0.525999                   -0.230704\n",
              "3          0    0               0                 0          0                        0         0                1              1                   0         0                  1                  1                 1                  0                1               1                   1                        1                     1                 -0.211353                       -1.404987         1.551543                     -0.137156                   -0.832126                -0.340664              -0.679447            -0.261793                       3.210560     -0.815505    0.815505                        -0.333513              -0.193128                    -0.466638       -0.276333                     -0.333513                -0.228358                 -0.495745               1.901144                   -0.230704\n",
              "4          0    0               0                 0          0                        1         0                0              0                   0         1                  0                  0                 1                  0                1               0                   0                        0                     0                 -0.211353                        0.711750        -0.644520                     -0.137156                   -0.832126                -0.340664               1.471786            -0.261793                      -0.311472     -0.815505    0.815505                        -0.333513              -0.193128                    -0.466638       -0.276333                     -0.333513                -0.228358                  2.017168              -0.525999                   -0.230704"
            ],
            "text/html": [
              "\n",
              "  <div id=\"df-825693da-96ca-4c19-aa9e-d339369e368d\">\n",
              "    <div class=\"colab-df-container\">\n",
              "      <div>\n",
              "<style scoped>\n",
              "    .dataframe tbody tr th:only-of-type {\n",
              "        vertical-align: middle;\n",
              "    }\n",
              "\n",
              "    .dataframe tbody tr th {\n",
              "        vertical-align: top;\n",
              "    }\n",
              "\n",
              "    .dataframe thead th {\n",
              "        text-align: right;\n",
              "    }\n",
              "</style>\n",
              "<table border=\"1\" class=\"dataframe\">\n",
              "  <thead>\n",
              "    <tr style=\"text-align: right;\">\n",
              "      <th></th>\n",
              "      <th>Attrition</th>\n",
              "      <th>Age</th>\n",
              "      <th>BusinessTravel</th>\n",
              "      <th>DistanceFromHome</th>\n",
              "      <th>Education</th>\n",
              "      <th>EnvironmentSatisfaction</th>\n",
              "      <th>JobLevel</th>\n",
              "      <th>JobSatisfaction</th>\n",
              "      <th>MonthlyIncome</th>\n",
              "      <th>NumCompaniesWorked</th>\n",
              "      <th>OverTime</th>\n",
              "      <th>PercentSalaryHike</th>\n",
              "      <th>PerformanceRating</th>\n",
              "      <th>StockOptionLevel</th>\n",
              "      <th>TotalWorkingYears</th>\n",
              "      <th>WorkLifeBalance</th>\n",
              "      <th>YearsAtCompany</th>\n",
              "      <th>YearsInCurrentRole</th>\n",
              "      <th>YearsSinceLastPromotion</th>\n",
              "      <th>YearsWithCurrManager</th>\n",
              "      <th>departmentHumanResources</th>\n",
              "      <th>departmentResearch&amp;Development</th>\n",
              "      <th>departmentSales</th>\n",
              "      <th>educationfieldHumanResources</th>\n",
              "      <th>educationfieldLifeSciences</th>\n",
              "      <th>educationfieldMarketing</th>\n",
              "      <th>educationfieldMedical</th>\n",
              "      <th>educationfieldOther</th>\n",
              "      <th>educationfieldTechnicalDegree</th>\n",
              "      <th>genderFemale</th>\n",
              "      <th>genderMale</th>\n",
              "      <th>jobroleHealthcareRepresentative</th>\n",
              "      <th>jobroleHumanResources</th>\n",
              "      <th>jobroleLaboratoryTechnician</th>\n",
              "      <th>jobroleManager</th>\n",
              "      <th>jobroleManufacturingDirector</th>\n",
              "      <th>jobroleResearchDirector</th>\n",
              "      <th>jobroleResearchScientist</th>\n",
              "      <th>jobroleSalesExecutive</th>\n",
              "      <th>jobroleSalesRepresentative</th>\n",
              "    </tr>\n",
              "  </thead>\n",
              "  <tbody>\n",
              "    <tr>\n",
              "      <th>0</th>\n",
              "      <td>0</td>\n",
              "      <td>0</td>\n",
              "      <td>0</td>\n",
              "      <td>1</td>\n",
              "      <td>0</td>\n",
              "      <td>1</td>\n",
              "      <td>0</td>\n",
              "      <td>0</td>\n",
              "      <td>1</td>\n",
              "      <td>0</td>\n",
              "      <td>0</td>\n",
              "      <td>0</td>\n",
              "      <td>0</td>\n",
              "      <td>1</td>\n",
              "      <td>0</td>\n",
              "      <td>0</td>\n",
              "      <td>1</td>\n",
              "      <td>1</td>\n",
              "      <td>0</td>\n",
              "      <td>1</td>\n",
              "      <td>-0.211353</td>\n",
              "      <td>0.711750</td>\n",
              "      <td>-0.644520</td>\n",
              "      <td>-0.137156</td>\n",
              "      <td>1.201741</td>\n",
              "      <td>-0.340664</td>\n",
              "      <td>-0.679447</td>\n",
              "      <td>-0.261793</td>\n",
              "      <td>-0.311472</td>\n",
              "      <td>-0.815505</td>\n",
              "      <td>0.815505</td>\n",
              "      <td>-0.333513</td>\n",
              "      <td>-0.193128</td>\n",
              "      <td>-0.466638</td>\n",
              "      <td>-0.276333</td>\n",
              "      <td>2.998381</td>\n",
              "      <td>-0.228358</td>\n",
              "      <td>-0.495745</td>\n",
              "      <td>-0.525999</td>\n",
              "      <td>-0.230704</td>\n",
              "    </tr>\n",
              "    <tr>\n",
              "      <th>1</th>\n",
              "      <td>0</td>\n",
              "      <td>0</td>\n",
              "      <td>0</td>\n",
              "      <td>0</td>\n",
              "      <td>1</td>\n",
              "      <td>0</td>\n",
              "      <td>0</td>\n",
              "      <td>0</td>\n",
              "      <td>0</td>\n",
              "      <td>0</td>\n",
              "      <td>0</td>\n",
              "      <td>0</td>\n",
              "      <td>0</td>\n",
              "      <td>1</td>\n",
              "      <td>0</td>\n",
              "      <td>0</td>\n",
              "      <td>0</td>\n",
              "      <td>0</td>\n",
              "      <td>0</td>\n",
              "      <td>0</td>\n",
              "      <td>-0.211353</td>\n",
              "      <td>-1.404987</td>\n",
              "      <td>1.551543</td>\n",
              "      <td>-0.137156</td>\n",
              "      <td>1.201741</td>\n",
              "      <td>-0.340664</td>\n",
              "      <td>-0.679447</td>\n",
              "      <td>-0.261793</td>\n",
              "      <td>-0.311472</td>\n",
              "      <td>-0.815505</td>\n",
              "      <td>0.815505</td>\n",
              "      <td>-0.333513</td>\n",
              "      <td>-0.193128</td>\n",
              "      <td>-0.466638</td>\n",
              "      <td>-0.276333</td>\n",
              "      <td>-0.333513</td>\n",
              "      <td>-0.228358</td>\n",
              "      <td>-0.495745</td>\n",
              "      <td>1.901144</td>\n",
              "      <td>-0.230704</td>\n",
              "    </tr>\n",
              "    <tr>\n",
              "      <th>2</th>\n",
              "      <td>0</td>\n",
              "      <td>1</td>\n",
              "      <td>0</td>\n",
              "      <td>0</td>\n",
              "      <td>1</td>\n",
              "      <td>1</td>\n",
              "      <td>1</td>\n",
              "      <td>1</td>\n",
              "      <td>1</td>\n",
              "      <td>0</td>\n",
              "      <td>0</td>\n",
              "      <td>0</td>\n",
              "      <td>0</td>\n",
              "      <td>1</td>\n",
              "      <td>1</td>\n",
              "      <td>1</td>\n",
              "      <td>1</td>\n",
              "      <td>1</td>\n",
              "      <td>0</td>\n",
              "      <td>1</td>\n",
              "      <td>4.731423</td>\n",
              "      <td>-1.404987</td>\n",
              "      <td>-0.644520</td>\n",
              "      <td>7.290946</td>\n",
              "      <td>-0.832126</td>\n",
              "      <td>-0.340664</td>\n",
              "      <td>-0.679447</td>\n",
              "      <td>-0.261793</td>\n",
              "      <td>-0.311472</td>\n",
              "      <td>-0.815505</td>\n",
              "      <td>0.815505</td>\n",
              "      <td>-0.333513</td>\n",
              "      <td>-0.193128</td>\n",
              "      <td>-0.466638</td>\n",
              "      <td>3.618824</td>\n",
              "      <td>-0.333513</td>\n",
              "      <td>-0.228358</td>\n",
              "      <td>-0.495745</td>\n",
              "      <td>-0.525999</td>\n",
              "      <td>-0.230704</td>\n",
              "    </tr>\n",
              "    <tr>\n",
              "      <th>3</th>\n",
              "      <td>0</td>\n",
              "      <td>0</td>\n",
              "      <td>0</td>\n",
              "      <td>0</td>\n",
              "      <td>0</td>\n",
              "      <td>0</td>\n",
              "      <td>0</td>\n",
              "      <td>1</td>\n",
              "      <td>1</td>\n",
              "      <td>0</td>\n",
              "      <td>0</td>\n",
              "      <td>1</td>\n",
              "      <td>1</td>\n",
              "      <td>1</td>\n",
              "      <td>0</td>\n",
              "      <td>1</td>\n",
              "      <td>1</td>\n",
              "      <td>1</td>\n",
              "      <td>1</td>\n",
              "      <td>1</td>\n",
              "      <td>-0.211353</td>\n",
              "      <td>-1.404987</td>\n",
              "      <td>1.551543</td>\n",
              "      <td>-0.137156</td>\n",
              "      <td>-0.832126</td>\n",
              "      <td>-0.340664</td>\n",
              "      <td>-0.679447</td>\n",
              "      <td>-0.261793</td>\n",
              "      <td>3.210560</td>\n",
              "      <td>-0.815505</td>\n",
              "      <td>0.815505</td>\n",
              "      <td>-0.333513</td>\n",
              "      <td>-0.193128</td>\n",
              "      <td>-0.466638</td>\n",
              "      <td>-0.276333</td>\n",
              "      <td>-0.333513</td>\n",
              "      <td>-0.228358</td>\n",
              "      <td>-0.495745</td>\n",
              "      <td>1.901144</td>\n",
              "      <td>-0.230704</td>\n",
              "    </tr>\n",
              "    <tr>\n",
              "      <th>4</th>\n",
              "      <td>0</td>\n",
              "      <td>0</td>\n",
              "      <td>0</td>\n",
              "      <td>0</td>\n",
              "      <td>0</td>\n",
              "      <td>1</td>\n",
              "      <td>0</td>\n",
              "      <td>0</td>\n",
              "      <td>0</td>\n",
              "      <td>0</td>\n",
              "      <td>1</td>\n",
              "      <td>0</td>\n",
              "      <td>0</td>\n",
              "      <td>1</td>\n",
              "      <td>0</td>\n",
              "      <td>1</td>\n",
              "      <td>0</td>\n",
              "      <td>0</td>\n",
              "      <td>0</td>\n",
              "      <td>0</td>\n",
              "      <td>-0.211353</td>\n",
              "      <td>0.711750</td>\n",
              "      <td>-0.644520</td>\n",
              "      <td>-0.137156</td>\n",
              "      <td>-0.832126</td>\n",
              "      <td>-0.340664</td>\n",
              "      <td>1.471786</td>\n",
              "      <td>-0.261793</td>\n",
              "      <td>-0.311472</td>\n",
              "      <td>-0.815505</td>\n",
              "      <td>0.815505</td>\n",
              "      <td>-0.333513</td>\n",
              "      <td>-0.193128</td>\n",
              "      <td>-0.466638</td>\n",
              "      <td>-0.276333</td>\n",
              "      <td>-0.333513</td>\n",
              "      <td>-0.228358</td>\n",
              "      <td>2.017168</td>\n",
              "      <td>-0.525999</td>\n",
              "      <td>-0.230704</td>\n",
              "    </tr>\n",
              "  </tbody>\n",
              "</table>\n",
              "</div>\n",
              "      <button class=\"colab-df-convert\" onclick=\"convertToInteractive('df-825693da-96ca-4c19-aa9e-d339369e368d')\"\n",
              "              title=\"Convert this dataframe to an interactive table.\"\n",
              "              style=\"display:none;\">\n",
              "        \n",
              "  <svg xmlns=\"http://www.w3.org/2000/svg\" height=\"24px\"viewBox=\"0 0 24 24\"\n",
              "       width=\"24px\">\n",
              "    <path d=\"M0 0h24v24H0V0z\" fill=\"none\"/>\n",
              "    <path d=\"M18.56 5.44l.94 2.06.94-2.06 2.06-.94-2.06-.94-.94-2.06-.94 2.06-2.06.94zm-11 1L8.5 8.5l.94-2.06 2.06-.94-2.06-.94L8.5 2.5l-.94 2.06-2.06.94zm10 10l.94 2.06.94-2.06 2.06-.94-2.06-.94-.94-2.06-.94 2.06-2.06.94z\"/><path d=\"M17.41 7.96l-1.37-1.37c-.4-.4-.92-.59-1.43-.59-.52 0-1.04.2-1.43.59L10.3 9.45l-7.72 7.72c-.78.78-.78 2.05 0 2.83L4 21.41c.39.39.9.59 1.41.59.51 0 1.02-.2 1.41-.59l7.78-7.78 2.81-2.81c.8-.78.8-2.07 0-2.86zM5.41 20L4 18.59l7.72-7.72 1.47 1.35L5.41 20z\"/>\n",
              "  </svg>\n",
              "      </button>\n",
              "      \n",
              "  <style>\n",
              "    .colab-df-container {\n",
              "      display:flex;\n",
              "      flex-wrap:wrap;\n",
              "      gap: 12px;\n",
              "    }\n",
              "\n",
              "    .colab-df-convert {\n",
              "      background-color: #E8F0FE;\n",
              "      border: none;\n",
              "      border-radius: 50%;\n",
              "      cursor: pointer;\n",
              "      display: none;\n",
              "      fill: #1967D2;\n",
              "      height: 32px;\n",
              "      padding: 0 0 0 0;\n",
              "      width: 32px;\n",
              "    }\n",
              "\n",
              "    .colab-df-convert:hover {\n",
              "      background-color: #E2EBFA;\n",
              "      box-shadow: 0px 1px 2px rgba(60, 64, 67, 0.3), 0px 1px 3px 1px rgba(60, 64, 67, 0.15);\n",
              "      fill: #174EA6;\n",
              "    }\n",
              "\n",
              "    [theme=dark] .colab-df-convert {\n",
              "      background-color: #3B4455;\n",
              "      fill: #D2E3FC;\n",
              "    }\n",
              "\n",
              "    [theme=dark] .colab-df-convert:hover {\n",
              "      background-color: #434B5C;\n",
              "      box-shadow: 0px 1px 3px 1px rgba(0, 0, 0, 0.15);\n",
              "      filter: drop-shadow(0px 1px 2px rgba(0, 0, 0, 0.3));\n",
              "      fill: #FFFFFF;\n",
              "    }\n",
              "  </style>\n",
              "\n",
              "      <script>\n",
              "        const buttonEl =\n",
              "          document.querySelector('#df-825693da-96ca-4c19-aa9e-d339369e368d button.colab-df-convert');\n",
              "        buttonEl.style.display =\n",
              "          google.colab.kernel.accessAllowed ? 'block' : 'none';\n",
              "\n",
              "        async function convertToInteractive(key) {\n",
              "          const element = document.querySelector('#df-825693da-96ca-4c19-aa9e-d339369e368d');\n",
              "          const dataTable =\n",
              "            await google.colab.kernel.invokeFunction('convertToInteractive',\n",
              "                                                     [key], {});\n",
              "          if (!dataTable) return;\n",
              "\n",
              "          const docLinkHtml = 'Like what you see? Visit the ' +\n",
              "            '<a target=\"_blank\" href=https://colab.research.google.com/notebooks/data_table.ipynb>data table notebook</a>'\n",
              "            + ' to learn more about interactive tables.';\n",
              "          element.innerHTML = '';\n",
              "          dataTable['output_type'] = 'display_data';\n",
              "          await google.colab.output.renderOutput(dataTable, element);\n",
              "          const docLink = document.createElement('div');\n",
              "          docLink.innerHTML = docLinkHtml;\n",
              "          element.appendChild(docLink);\n",
              "        }\n",
              "      </script>\n",
              "    </div>\n",
              "  </div>\n",
              "  "
            ]
          },
          "metadata": {},
          "execution_count": 40
        }
      ]
    },
    {
      "cell_type": "code",
      "source": [
        "len(features_subset)"
      ],
      "metadata": {
        "colab": {
          "base_uri": "https://localhost:8080/"
        },
        "id": "tD7zFtnuq1ip",
        "outputId": "7e3dd052-1bdc-4753-fea0-fdd4ba6869e4"
      },
      "execution_count": null,
      "outputs": [
        {
          "output_type": "execute_result",
          "data": {
            "text/plain": [
              "19"
            ]
          },
          "metadata": {},
          "execution_count": 41
        }
      ]
    },
    {
      "cell_type": "code",
      "source": [
        "features_subset"
      ],
      "metadata": {
        "id": "7TIzasd5FKn-",
        "outputId": "3b1b906f-a70d-4dd3-cd7f-a371589f1cee",
        "colab": {
          "base_uri": "https://localhost:8080/"
        }
      },
      "execution_count": null,
      "outputs": [
        {
          "output_type": "execute_result",
          "data": {
            "text/plain": [
              "['Age',\n",
              " 'BusinessTravel',\n",
              " 'DistanceFromHome',\n",
              " 'Education',\n",
              " 'EnvironmentSatisfaction',\n",
              " 'JobLevel',\n",
              " 'JobSatisfaction',\n",
              " 'MonthlyIncome',\n",
              " 'NumCompaniesWorked',\n",
              " 'OverTime',\n",
              " 'PercentSalaryHike',\n",
              " 'PerformanceRating',\n",
              " 'StockOptionLevel',\n",
              " 'TotalWorkingYears',\n",
              " 'WorkLifeBalance',\n",
              " 'YearsAtCompany',\n",
              " 'YearsInCurrentRole',\n",
              " 'YearsSinceLastPromotion',\n",
              " 'YearsWithCurrManager']"
            ]
          },
          "metadata": {},
          "execution_count": 42
        }
      ]
    },
    {
      "cell_type": "code",
      "source": [
        "X_b = np.array(df_b.iloc[:, 1:])\n",
        "y_b = np.array(df_b.iloc[:, 0])"
      ],
      "metadata": {
        "id": "L3v8riBgoepY"
      },
      "execution_count": null,
      "outputs": []
    },
    {
      "cell_type": "code",
      "source": [
        "for feature in range(len(features_subset)):\n",
        "    IG = information_gain(X_b, y_b, feature)\n",
        "    print ('%d %.3f %s' %(feature, IG, features_subset[feature]))"
      ],
      "metadata": {
        "colab": {
          "base_uri": "https://localhost:8080/"
        },
        "id": "PvwlKC9-pSaT",
        "outputId": "6b82b63f-298d-4eb4-8eac-e380e2932412"
      },
      "execution_count": null,
      "outputs": [
        {
          "output_type": "stream",
          "name": "stdout",
          "text": [
            "0 0.011 Age\n",
            "1 0.008 BusinessTravel\n",
            "2 0.004 DistanceFromHome\n",
            "3 0.000 Education\n",
            "4 0.006 EnvironmentSatisfaction\n",
            "5 0.006 JobLevel\n",
            "6 0.005 JobSatisfaction\n",
            "7 0.009 MonthlyIncome\n",
            "8 0.001 NumCompaniesWorked\n",
            "9 0.028 OverTime\n",
            "10 0.000 PercentSalaryHike\n",
            "11 0.000 PerformanceRating\n",
            "12 0.033 StockOptionLevel\n",
            "13 0.012 TotalWorkingYears\n",
            "14 0.006 WorkLifeBalance\n",
            "15 0.013 YearsAtCompany\n",
            "16 0.014 YearsInCurrentRole\n",
            "17 0.003 YearsSinceLastPromotion\n",
            "18 0.010 YearsWithCurrManager\n"
          ]
        }
      ]
    }
  ]
}